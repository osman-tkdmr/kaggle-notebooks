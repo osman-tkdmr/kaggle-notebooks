{
 "cells": [
  {
   "cell_type": "markdown",
   "metadata": {},
   "source": [
    "<a href=\"https://www.kaggle.com/code/osmantekdamar/titanic?scriptVersionId=218358422\" target=\"_blank\"><img align=\"left\" alt=\"Kaggle\" title=\"Open in Kaggle\" src=\"https://kaggle.com/static/images/open-in-kaggle.svg\"></a>"
   ]
  },
  {
   "cell_type": "markdown",
   "metadata": {},
   "source": [
    "# Itroduction\n",
    "The Titanic was a British passenger liner that famously sank on its maiden voyage in April 1912. Here is a summary of the Titanic story:\n",
    "\n",
    "1. Construction and Maiden Voyage:\n",
    "   - The Titanic was one of three sister ships, along with the RMS Olympic and HMHS Britannic, built by the White Star Line.\n",
    "   - It was touted as the most luxurious and largest ship of its time, with advanced safety features.\n",
    "\n",
    "2. Departure and Passengers:\n",
    "   - The Titanic left Southampton, England, on April 10, 1912, and made stops in Cherbourg, France, and Queenstown (now known as Cobh), Ireland, before heading to New York City.\n",
    "   - Onboard were over 2,200 passengers and crew members, including many wealthy and prominent individuals.\n",
    "\n",
    "3. Collision with an Iceberg:\n",
    "   - On the night of April 14, 1912, the Titanic struck an iceberg in the North Atlantic Ocean.\n",
    "   - The collision damaged the ship's hull, leading to the flooding of several compartments below deck.\n",
    "\n",
    "4. Sinking:\n",
    "   - Despite efforts to slow the sinking and evacuate passengers, there were not enough lifeboats for everyone on board.\n",
    "   - The Titanic sank in the early hours of April 15, 1912, just over two hours after hitting the iceberg.\n",
    "\n",
    "5. Rescue:\n",
    "   - The nearby RMS Carpathia received distress signals and rushed to the scene.\n",
    "   - Over 700 survivors were rescued from lifeboats, but more than 1,500 people perished in the disaster.\n",
    "\n",
    "6. Aftermath:\n",
    "   - The sinking of the Titanic was a profound tragedy that shocked the world and prompted significant changes in maritime safety regulations.\n",
    "   - Investigations revealed shortcomings in the ship's design, safety measures, and the handling of the emergency.\n",
    "\n",
    "7. Cultural Impact:\n",
    "   - The Titanic disaster has inspired numerous books, films, and documentaries, including James Cameron's 1997 movie \"Titanic.\"\n",
    "   - It remains a symbol of human hubris and the consequences of disregarding safety measures.\n",
    "\n",
    "The sinking of the Titanic is a well-known and tragic event in history, and its legacy continues to captivate people's imaginations and serve as a cautionary tale about the importance of safety at sea."
   ]
  },
  {
   "cell_type": "markdown",
   "metadata": {},
   "source": [
    "Here is a simple sketch of that epic ship"
   ]
  },
  {
   "cell_type": "markdown",
   "metadata": {},
   "source": [
    "![Map](https://i.pinimg.com/originals/73/90/a6/7390a6730ca3c56602bc0495910c1a54.png)"
   ]
  },
  {
   "cell_type": "markdown",
   "metadata": {},
   "source": [
    "<font color= \"blue\">\n",
    "Content:\n",
    "\n",
    "1. [Load and Check Data](#1)\n",
    "1. [Variable Description and Basic Data Analysis](#2)\n",
    "    * [Categorical Variable](#3)\n",
    "    * [Numerical Variable](#4)\n",
    "    * [Cardinal Variable](#5)\n",
    "1. [Outlier Detection](#6)\n",
    "1. [Missing Value](#7)\n",
    "    * [Find Missing Value](#8)\n",
    "    * [Fill Missing Value](#9)\n",
    "1. [Visualization](#10)\n",
    "    * [Correlation Between Sibsp -- Parch -- Age -- Fare -- Survived](#11)\n",
    "    * [SibSp -- Survived](#12)\n",
    "    * [Parch -- Survived](#13)\n",
    "    * [Pclass -- Survived](#14)\n",
    "    * [Age -- Survived](#15)\n",
    "    * [Pclass -- Survived -- Age](#16)\n",
    "    * [Embarked -- Sex -- Pclass -- Survived](#17)\n",
    "    * [Embarked -- Sex -- Fare -- Survived](#18)\n",
    "    * [Fill Missing: Age Feature](#19)\n",
    "1. [Feature Engineering](#20)\n",
    "    * [Name -- Title](#21)\n",
    "    * [Family Size](#22)\n",
    "    * [Embarked](#23)\n",
    "    * [Ticket](#24)\n",
    "    * [Pclass](#25)\n",
    "    * [Sex](#26)\n",
    "    * [Drop Passenger ID and Cabin](#27)\n",
    "1. [Modeling](#28)\n",
    "    * [Train - Test Split](#29)\n",
    "    * [Simple Logistic Regression](#30)\n",
    "    * [Hyperparameter Tuning -- Grid Search -- Cross Validation](#31)\n",
    "    * [Ensemble Modeling](#32)\n",
    "    * [Prediction and Submission](#33)"
   ]
  },
  {
   "cell_type": "code",
   "execution_count": 161,
   "metadata": {
    "_cell_guid": "b1076dfc-b9ad-4769-8c92-a6c4dae69d19",
    "_uuid": "8f2839f25d086af736a60e9eeb907d3b93b6e0e5",
    "execution": {
     "iopub.execute_input": "2025-01-19T20:51:33.997168Z",
     "iopub.status.busy": "2025-01-19T20:51:33.996551Z",
     "iopub.status.idle": "2025-01-19T20:51:35.581002Z",
     "shell.execute_reply": "2025-01-19T20:51:35.579917Z",
     "shell.execute_reply.started": "2025-01-19T20:51:33.997121Z"
    },
    "trusted": true
   },
   "outputs": [],
   "source": [
    "# This Python 3 environment comes with many helpful analytics libraries installed\n",
    "# It is defined by the kaggle/python Docker image: https://github.com/kaggle/docker-python\n",
    "# For example, here's several helpful packages to load\n",
    "\n",
    "import numpy as np # linear algebra\n",
    "import pandas as pd # data processing, CSV file I/O (e.g. pd.read_csv)\n",
    "\n",
    "import matplotlib.pyplot as plt\n",
    "import seaborn as sns\n",
    "from scipy import stats\n",
    "\n",
    "# Input data files are available in the read-only \"../input/\" directory\n",
    "# For example, running this (by clicking run or pressing Shift+Enter) will list all files under the input directory\n",
    "\n",
    "#import os\n",
    "#for dirname, _, filenames in os.walk('/kaggle/input'):\n",
    "#    for filename in filenames:\n",
    "#        print(os.path.join(dirname, filename))\n",
    "\n",
    "# You can write up to 20GB to the current directory (/kaggle/working/) that gets preserved as output when you create a version using \"Save & Run All\" \n",
    "# You can also write temporary files to /kaggle/temp/, but they won't be saved outside of the current session"
   ]
  },
  {
   "cell_type": "markdown",
   "metadata": {},
   "source": [
    "# Helper Functions"
   ]
  },
  {
   "cell_type": "code",
   "execution_count": 162,
   "metadata": {
    "execution": {
     "iopub.execute_input": "2025-01-19T20:51:35.74062Z",
     "iopub.status.busy": "2025-01-19T20:51:35.740254Z",
     "iopub.status.idle": "2025-01-19T20:51:35.753465Z",
     "shell.execute_reply": "2025-01-19T20:51:35.751976Z",
     "shell.execute_reply.started": "2025-01-19T20:51:35.740584Z"
    },
    "trusted": true
   },
   "outputs": [],
   "source": [
    "def analyze_data(dataframe, cat_th=10, car_th=20):\n",
    "    \"\"\"\n",
    "    It gives the names of categorical, numerical and categorical but cardinal variables in the data set. It also performs incomplete data analysis.\n",
    "    Parameters\n",
    "    ------\n",
    "        dataframe: dataframe\n",
    "            The dataframe from which variable names are to be retrieved\n",
    "        cat_th: int, optional\n",
    "            Class threshold value for numeric but categorical variables\n",
    "        car_th: int, optional\n",
    "            Class threshold for categorical but cardinal variables\n",
    "\n",
    "    Returns\n",
    "    ------\n",
    "        cat_cols: list\n",
    "            Categorical variable list\n",
    "        num_cols: list\n",
    "            Numerik değişken listesi\n",
    "        cat_but_car: list\n",
    "            Categorical view cardinal variable list\n",
    "    \"\"\"\n",
    "    cat_cols = [col for col in dataframe.columns if dataframe[col].dtype == \"O\"]\n",
    "    num_cols = [col for col in dataframe.columns if dataframe[col].dtype != \"O\"]\n",
    "\n",
    "    num_but_cat = [col for col in num_cols if dataframe[col].nunique() < cat_th]\n",
    "    cat_but_car = [col for col in cat_cols if dataframe[col].nunique() > car_th]\n",
    "\n",
    "    cat_cols = [col for col in cat_cols if col not in cat_but_car]\n",
    "    num_cols = [col for col in num_cols if col not in num_but_cat]\n",
    "\n",
    "    cat_cols = cat_cols + num_but_cat\n",
    "    \n",
    "    print(f\"Number of Observations: {dataframe.shape[0]}\")\n",
    "    print(f\"Number of Variables: {dataframe.shape[1]}\")\n",
    "    print(f'Cat cols: {len(cat_cols)}, Num cols: {len(num_cols)}, Cat but car cols: {len(cat_but_car)}')\n",
    "    print(\"\\nMissing Data\")\n",
    "    print(dataframe.isna().sum())\n",
    "\n",
    "    return cat_cols, num_cols, cat_but_car"
   ]
  },
  {
   "cell_type": "code",
   "execution_count": 163,
   "metadata": {
    "execution": {
     "iopub.execute_input": "2025-01-19T20:51:36.069221Z",
     "iopub.status.busy": "2025-01-19T20:51:36.068853Z",
     "iopub.status.idle": "2025-01-19T20:51:36.079586Z",
     "shell.execute_reply": "2025-01-19T20:51:36.078528Z",
     "shell.execute_reply.started": "2025-01-19T20:51:36.069193Z"
    },
    "trusted": true
   },
   "outputs": [],
   "source": [
    "def analyze_categorical_features(train_data, cat_cols, target_feature):\n",
    "    figures_dict = {}\n",
    "    \n",
    "    for feature in cat_cols:\n",
    "        # Value Counts Plot\n",
    "        value_counts = train_data[feature].value_counts().reset_index()\n",
    "        value_counts.columns = [feature, 'Adet']\n",
    "        \n",
    "        fig1, ax1 = plt.subplots(figsize=(18, 6))\n",
    "        sns.barplot(data=value_counts, x=feature, y='Adet', ax=ax1)\n",
    "        ax1.set_title(f'{feature} Value Counts')\n",
    "        ax1.tick_params(axis='x', rotation=45)\n",
    "        figures_dict[f'{feature}_value_counts'] = fig1\n",
    "        \n",
    "        # Relationship Count Plot\n",
    "        cross_table = pd.crosstab(train_data[feature], train_data[target_feature])\n",
    "        cross_table_melted = cross_table.reset_index().melt(\n",
    "            id_vars=feature, \n",
    "            var_name=target_feature, \n",
    "            value_name='Count'\n",
    "        )\n",
    "        \n",
    "        fig2, ax2 = plt.subplots(figsize=(18, 6))\n",
    "        sns.barplot(\n",
    "            data=cross_table_melted, \n",
    "            y=feature, \n",
    "            x='Count', \n",
    "            hue=target_feature, \n",
    "            ax=ax2\n",
    "        )\n",
    "        ax2.set_title(f'{feature} vs {target_feature} Relationship (Counts)')\n",
    "        ax2.legend(title=target_feature)\n",
    "        figures_dict[f'{feature}_{target_feature}_counts'] = fig2\n",
    "        \n",
    "        \n",
    "        \n",
    "        # Close figures to prevent memory leaks\n",
    "        plt.close(fig1)\n",
    "        plt.close(fig2)\n",
    "        \n",
    "    return figures_dict"
   ]
  },
  {
   "cell_type": "code",
   "execution_count": 164,
   "metadata": {
    "execution": {
     "iopub.execute_input": "2025-01-19T20:51:36.081296Z",
     "iopub.status.busy": "2025-01-19T20:51:36.08099Z",
     "iopub.status.idle": "2025-01-19T20:51:36.102245Z",
     "shell.execute_reply": "2025-01-19T20:51:36.100631Z",
     "shell.execute_reply.started": "2025-01-19T20:51:36.08127Z"
    },
    "trusted": true
   },
   "outputs": [],
   "source": [
    "def analyze_numerical_features(train_data, num_cols, target_feature):\n",
    "    \"\"\"\n",
    "    Analyze numerical features using Seaborn visualizations and statistical analysis\n",
    "    \n",
    "    Parameters:\n",
    "    train_data (pd.DataFrame): Input DataFrame\n",
    "    num_cols (list): List of numerical column names\n",
    "    target_feature (str): Target variable name\n",
    "    \n",
    "    Returns:\n",
    "    dict: Dictionary containing figure objects and statistical summaries\n",
    "    \"\"\"\n",
    "    figures_dict = {}\n",
    "    sns.set_style(\"whitegrid\")\n",
    "    \n",
    "    for feature in num_cols:\n",
    "        # Distribution Plot\n",
    "        fig_dist, ax_dist = plt.subplots(figsize=(18, 6))\n",
    "        sns.histplot(data=train_data, x=feature, kde=True, ax=ax_dist)\n",
    "        ax_dist.set_title(f'{feature} Distribution')\n",
    "        figures_dict[f'{feature}_distribution'] = fig_dist\n",
    "        plt.close(fig_dist)\n",
    "        \n",
    "        # Comparative Boxplot\n",
    "        fig_box, ax_box = plt.subplots(figsize=(18, 6))\n",
    "        sns.boxplot(data=train_data, x=target_feature, y=feature, \n",
    "                   palette='Set3', ax=ax_box, legend=False, hue=target_feature)\n",
    "        ax_box.set_title(f'{feature} Distribution by {target_feature}')\n",
    "        figures_dict[f'{feature}_boxplot'] = fig_box\n",
    "        plt.close(fig_box)\n",
    "        \n",
    "        # Comparative Violin Plot\n",
    "        fig_violin, ax_violin = plt.subplots(figsize=(18, 6))\n",
    "        sns.violinplot(data=train_data, x=target_feature, y=feature, \n",
    "                      palette='Set3', ax=ax_violin,legend=False, hue=target_feature)\n",
    "        ax_violin.set_title(f'{feature} Density Distribution by {target_feature}')\n",
    "        figures_dict[f'{feature}_violin'] = fig_violin\n",
    "        plt.close(fig_violin)\n",
    "        \n",
    "        # Mean Comparison with Confidence Intervals\n",
    "        fig_mean, ax_mean = plt.subplots(figsize=(18, 6))\n",
    "        sns.barplot(data=train_data, x=target_feature, y=feature, \n",
    "                   palette='Set3', errorbar=('ci', 95), ax=ax_mean, legend=False, hue=target_feature)\n",
    "        ax_mean.set_title(f'Mean {feature} by {target_feature}')\n",
    "        ax_mean.set_ylabel('Mean Value')\n",
    "        figures_dict[f'{feature}_mean_comparison'] = fig_mean\n",
    "        plt.close(fig_mean)\n",
    "        \n",
    "        # Outlier Analysis\n",
    "        Q1 = train_data[feature].quantile(0.25)\n",
    "        Q3 = train_data[feature].quantile(0.75)\n",
    "        IQR = Q3 - Q1\n",
    "        lower_bound = Q1 - 1.5 * IQR\n",
    "        upper_bound = Q3 + 1.5 * IQR\n",
    "        outliers = train_data[feature].between(lower_bound, upper_bound, inclusive='neither')\n",
    "        \n",
    "        # Outlier-Target Relationship\n",
    "        fig_heat, ax_heat = plt.subplots(figsize=(18, 6))\n",
    "        crosstab = pd.crosstab(~outliers, train_data[target_feature], normalize='index')\n",
    "        sns.heatmap(crosstab, annot=True, fmt='.2%', cmap='YlOrRd', ax=ax_heat)\n",
    "        ax_heat.set_title(f'Outlier Impact on {target_feature} for {feature}')\n",
    "        ax_heat.set_xlabel(target_feature)\n",
    "        ax_heat.set_ylabel('Is Outlier')\n",
    "        figures_dict[f'{feature}_outlier_heatmap'] = fig_heat\n",
    "        plt.close(fig_heat)\n",
    "        \n",
    "        # Statistical Analysis\n",
    "        stats_info = {}\n",
    "        stats_info['normality'] = stats.normaltest(train_data[feature].dropna())[:2]\n",
    "        stats_info['descriptive'] = train_data[feature].describe().to_dict()\n",
    "        stats_info['outliers'] = {\n",
    "            'count': (~outliers).sum(),\n",
    "            'percentage': (~outliers).mean() * 100\n",
    "        }\n",
    "        \n",
    "        if len(train_data[target_feature].unique()) == 2:\n",
    "            groups = train_data[target_feature].unique()\n",
    "            group_a = train_data[train_data[target_feature] == groups[0]][feature]\n",
    "            group_b = train_data[train_data[target_feature] == groups[1]][feature]\n",
    "            stats_info['mann_whitney'] = stats.mannwhitneyu(group_a, group_b)[:2]\n",
    "        \n",
    "        figures_dict[f'{feature}_stats'] = stats_info\n",
    "        \n",
    "    return figures_dict"
   ]
  },
  {
   "cell_type": "code",
   "execution_count": 165,
   "metadata": {
    "execution": {
     "iopub.execute_input": "2025-01-19T20:52:49.504403Z",
     "iopub.status.busy": "2025-01-19T20:52:49.504059Z",
     "iopub.status.idle": "2025-01-19T20:52:49.513295Z",
     "shell.execute_reply": "2025-01-19T20:52:49.512219Z",
     "shell.execute_reply.started": "2025-01-19T20:52:49.504355Z"
    },
    "trusted": true
   },
   "outputs": [],
   "source": [
    "def check_outliers(data, columns, threshold=1.5):\n",
    "    \"\"\"\n",
    "    Check for outliers in multiple columns of a DataFrame.\n",
    "    \n",
    "    Parameters:\n",
    "    - data: DataFrame containing the data.\n",
    "    - columns: List of column names to check for outliers.\n",
    "    - threshold: Multiplier for the IQR (Interquartile Range) to determine outliers.\n",
    "    \n",
    "    Returns:\n",
    "    - outliers_dict: A dictionary where keys are column names and values are lists of outliers' indices.\n",
    "    \"\"\"\n",
    "    outliers_dict = {}\n",
    "    \n",
    "    for col in columns:\n",
    "        # Calculate the IQR (Interquartile Range) for the column\n",
    "        Q1 = data[col].quantile(0.25)\n",
    "        Q3 = data[col].quantile(0.75)\n",
    "        IQR = Q3 - Q1\n",
    "        \n",
    "        # Define the lower and upper bounds for outliers\n",
    "        lower_bound = Q1 - threshold * IQR\n",
    "        upper_bound = Q3 + threshold * IQR\n",
    "        \n",
    "        # Find the indices of outliers in the column\n",
    "        outliers_indices = data[(data[col] < lower_bound) | (data[col] > upper_bound)].index.tolist()\n",
    "        \n",
    "        # Store the outliers in the dictionary\n",
    "        outliers_dict[col] = outliers_indices\n",
    "    \n",
    "    return outliers_dict"
   ]
  },
  {
   "cell_type": "code",
   "execution_count": 166,
   "metadata": {
    "execution": {
     "iopub.execute_input": "2025-01-19T20:51:35.582899Z",
     "iopub.status.busy": "2025-01-19T20:51:35.582375Z",
     "iopub.status.idle": "2025-01-19T20:51:35.589149Z",
     "shell.execute_reply": "2025-01-19T20:51:35.587636Z",
     "shell.execute_reply.started": "2025-01-19T20:51:35.582853Z"
    },
    "trusted": true
   },
   "outputs": [],
   "source": [
    "pd.set_option('display.max_colwidth', 500)\n",
    "pd.set_option('display.width', 1000)"
   ]
  },
  {
   "cell_type": "markdown",
   "metadata": {},
   "source": [
    "<a id = \"1\"></a>\n",
    "# Load and Check Data"
   ]
  },
  {
   "cell_type": "code",
   "execution_count": 167,
   "metadata": {},
   "outputs": [],
   "source": [
    "#!pip install kagglehub"
   ]
  },
  {
   "cell_type": "code",
   "execution_count": 168,
   "metadata": {},
   "outputs": [],
   "source": [
    "import kagglehub.competition\n",
    "path = kagglehub.competition.competition_download('titanic')"
   ]
  },
  {
   "cell_type": "code",
   "execution_count": 169,
   "metadata": {
    "execution": {
     "iopub.execute_input": "2025-01-19T20:51:35.59134Z",
     "iopub.status.busy": "2025-01-19T20:51:35.590841Z",
     "iopub.status.idle": "2025-01-19T20:51:35.647071Z",
     "shell.execute_reply": "2025-01-19T20:51:35.645704Z",
     "shell.execute_reply.started": "2025-01-19T20:51:35.591298Z"
    },
    "trusted": true
   },
   "outputs": [],
   "source": [
    "train_data = pd.read_csv(f\"{path}/train.csv\")\n",
    "test_data = pd.read_csv(f\"{path}/test.csv\")\n",
    "submission = test_data[[\"PassengerId\"]]\n",
    "train_data.drop(\"PassengerId\", axis = 1, inplace = True)\n",
    "test_data.drop(\"PassengerId\", axis = 1, inplace = True)"
   ]
  },
  {
   "cell_type": "code",
   "execution_count": 170,
   "metadata": {
    "execution": {
     "iopub.execute_input": "2025-01-19T20:51:35.651335Z",
     "iopub.status.busy": "2025-01-19T20:51:35.650859Z",
     "iopub.status.idle": "2025-01-19T20:51:35.674294Z",
     "shell.execute_reply": "2025-01-19T20:51:35.672988Z",
     "shell.execute_reply.started": "2025-01-19T20:51:35.651291Z"
    },
    "trusted": true
   },
   "outputs": [
    {
     "data": {
      "text/html": [
       "<div>\n",
       "<style scoped>\n",
       "    .dataframe tbody tr th:only-of-type {\n",
       "        vertical-align: middle;\n",
       "    }\n",
       "\n",
       "    .dataframe tbody tr th {\n",
       "        vertical-align: top;\n",
       "    }\n",
       "\n",
       "    .dataframe thead th {\n",
       "        text-align: right;\n",
       "    }\n",
       "</style>\n",
       "<table border=\"1\" class=\"dataframe\">\n",
       "  <thead>\n",
       "    <tr style=\"text-align: right;\">\n",
       "      <th></th>\n",
       "      <th>Survived</th>\n",
       "      <th>Pclass</th>\n",
       "      <th>Name</th>\n",
       "      <th>Sex</th>\n",
       "      <th>Age</th>\n",
       "      <th>SibSp</th>\n",
       "      <th>Parch</th>\n",
       "      <th>Ticket</th>\n",
       "      <th>Fare</th>\n",
       "      <th>Cabin</th>\n",
       "      <th>Embarked</th>\n",
       "    </tr>\n",
       "  </thead>\n",
       "  <tbody>\n",
       "    <tr>\n",
       "      <th>0</th>\n",
       "      <td>0</td>\n",
       "      <td>3</td>\n",
       "      <td>Braund, Mr. Owen Harris</td>\n",
       "      <td>male</td>\n",
       "      <td>22.0</td>\n",
       "      <td>1</td>\n",
       "      <td>0</td>\n",
       "      <td>A/5 21171</td>\n",
       "      <td>7.2500</td>\n",
       "      <td>NaN</td>\n",
       "      <td>S</td>\n",
       "    </tr>\n",
       "    <tr>\n",
       "      <th>1</th>\n",
       "      <td>1</td>\n",
       "      <td>1</td>\n",
       "      <td>Cumings, Mrs. John Bradley (Florence Briggs Thayer)</td>\n",
       "      <td>female</td>\n",
       "      <td>38.0</td>\n",
       "      <td>1</td>\n",
       "      <td>0</td>\n",
       "      <td>PC 17599</td>\n",
       "      <td>71.2833</td>\n",
       "      <td>C85</td>\n",
       "      <td>C</td>\n",
       "    </tr>\n",
       "    <tr>\n",
       "      <th>2</th>\n",
       "      <td>1</td>\n",
       "      <td>3</td>\n",
       "      <td>Heikkinen, Miss. Laina</td>\n",
       "      <td>female</td>\n",
       "      <td>26.0</td>\n",
       "      <td>0</td>\n",
       "      <td>0</td>\n",
       "      <td>STON/O2. 3101282</td>\n",
       "      <td>7.9250</td>\n",
       "      <td>NaN</td>\n",
       "      <td>S</td>\n",
       "    </tr>\n",
       "    <tr>\n",
       "      <th>3</th>\n",
       "      <td>1</td>\n",
       "      <td>1</td>\n",
       "      <td>Futrelle, Mrs. Jacques Heath (Lily May Peel)</td>\n",
       "      <td>female</td>\n",
       "      <td>35.0</td>\n",
       "      <td>1</td>\n",
       "      <td>0</td>\n",
       "      <td>113803</td>\n",
       "      <td>53.1000</td>\n",
       "      <td>C123</td>\n",
       "      <td>S</td>\n",
       "    </tr>\n",
       "    <tr>\n",
       "      <th>4</th>\n",
       "      <td>0</td>\n",
       "      <td>3</td>\n",
       "      <td>Allen, Mr. William Henry</td>\n",
       "      <td>male</td>\n",
       "      <td>35.0</td>\n",
       "      <td>0</td>\n",
       "      <td>0</td>\n",
       "      <td>373450</td>\n",
       "      <td>8.0500</td>\n",
       "      <td>NaN</td>\n",
       "      <td>S</td>\n",
       "    </tr>\n",
       "  </tbody>\n",
       "</table>\n",
       "</div>"
      ],
      "text/plain": [
       "   Survived  Pclass                                                 Name     Sex   Age  SibSp  Parch            Ticket     Fare Cabin Embarked\n",
       "0         0       3                              Braund, Mr. Owen Harris    male  22.0      1      0         A/5 21171   7.2500   NaN        S\n",
       "1         1       1  Cumings, Mrs. John Bradley (Florence Briggs Thayer)  female  38.0      1      0          PC 17599  71.2833   C85        C\n",
       "2         1       3                               Heikkinen, Miss. Laina  female  26.0      0      0  STON/O2. 3101282   7.9250   NaN        S\n",
       "3         1       1         Futrelle, Mrs. Jacques Heath (Lily May Peel)  female  35.0      1      0            113803  53.1000  C123        S\n",
       "4         0       3                             Allen, Mr. William Henry    male  35.0      0      0            373450   8.0500   NaN        S"
      ]
     },
     "execution_count": 170,
     "metadata": {},
     "output_type": "execute_result"
    }
   ],
   "source": [
    "train_data.head()"
   ]
  },
  {
   "cell_type": "code",
   "execution_count": 171,
   "metadata": {
    "execution": {
     "iopub.execute_input": "2025-01-19T20:51:35.67598Z",
     "iopub.status.busy": "2025-01-19T20:51:35.675653Z",
     "iopub.status.idle": "2025-01-19T20:51:35.714903Z",
     "shell.execute_reply": "2025-01-19T20:51:35.713724Z",
     "shell.execute_reply.started": "2025-01-19T20:51:35.675945Z"
    },
    "trusted": true
   },
   "outputs": [
    {
     "data": {
      "text/html": [
       "<div>\n",
       "<style scoped>\n",
       "    .dataframe tbody tr th:only-of-type {\n",
       "        vertical-align: middle;\n",
       "    }\n",
       "\n",
       "    .dataframe tbody tr th {\n",
       "        vertical-align: top;\n",
       "    }\n",
       "\n",
       "    .dataframe thead th {\n",
       "        text-align: right;\n",
       "    }\n",
       "</style>\n",
       "<table border=\"1\" class=\"dataframe\">\n",
       "  <thead>\n",
       "    <tr style=\"text-align: right;\">\n",
       "      <th></th>\n",
       "      <th>count</th>\n",
       "      <th>mean</th>\n",
       "      <th>std</th>\n",
       "      <th>min</th>\n",
       "      <th>10%</th>\n",
       "      <th>25%</th>\n",
       "      <th>50%</th>\n",
       "      <th>75%</th>\n",
       "      <th>90%</th>\n",
       "      <th>max</th>\n",
       "    </tr>\n",
       "  </thead>\n",
       "  <tbody>\n",
       "    <tr>\n",
       "      <th>Survived</th>\n",
       "      <td>891.0</td>\n",
       "      <td>0.383838</td>\n",
       "      <td>0.486592</td>\n",
       "      <td>0.00</td>\n",
       "      <td>0.00</td>\n",
       "      <td>0.0000</td>\n",
       "      <td>0.0000</td>\n",
       "      <td>1.0</td>\n",
       "      <td>1.0000</td>\n",
       "      <td>1.0000</td>\n",
       "    </tr>\n",
       "    <tr>\n",
       "      <th>Pclass</th>\n",
       "      <td>891.0</td>\n",
       "      <td>2.308642</td>\n",
       "      <td>0.836071</td>\n",
       "      <td>1.00</td>\n",
       "      <td>1.00</td>\n",
       "      <td>2.0000</td>\n",
       "      <td>3.0000</td>\n",
       "      <td>3.0</td>\n",
       "      <td>3.0000</td>\n",
       "      <td>3.0000</td>\n",
       "    </tr>\n",
       "    <tr>\n",
       "      <th>Age</th>\n",
       "      <td>714.0</td>\n",
       "      <td>29.699118</td>\n",
       "      <td>14.526497</td>\n",
       "      <td>0.42</td>\n",
       "      <td>14.00</td>\n",
       "      <td>20.1250</td>\n",
       "      <td>28.0000</td>\n",
       "      <td>38.0</td>\n",
       "      <td>50.0000</td>\n",
       "      <td>80.0000</td>\n",
       "    </tr>\n",
       "    <tr>\n",
       "      <th>SibSp</th>\n",
       "      <td>891.0</td>\n",
       "      <td>0.523008</td>\n",
       "      <td>1.102743</td>\n",
       "      <td>0.00</td>\n",
       "      <td>0.00</td>\n",
       "      <td>0.0000</td>\n",
       "      <td>0.0000</td>\n",
       "      <td>1.0</td>\n",
       "      <td>1.0000</td>\n",
       "      <td>8.0000</td>\n",
       "    </tr>\n",
       "    <tr>\n",
       "      <th>Parch</th>\n",
       "      <td>891.0</td>\n",
       "      <td>0.381594</td>\n",
       "      <td>0.806057</td>\n",
       "      <td>0.00</td>\n",
       "      <td>0.00</td>\n",
       "      <td>0.0000</td>\n",
       "      <td>0.0000</td>\n",
       "      <td>0.0</td>\n",
       "      <td>2.0000</td>\n",
       "      <td>6.0000</td>\n",
       "    </tr>\n",
       "    <tr>\n",
       "      <th>Fare</th>\n",
       "      <td>891.0</td>\n",
       "      <td>32.204208</td>\n",
       "      <td>49.693429</td>\n",
       "      <td>0.00</td>\n",
       "      <td>7.55</td>\n",
       "      <td>7.9104</td>\n",
       "      <td>14.4542</td>\n",
       "      <td>31.0</td>\n",
       "      <td>77.9583</td>\n",
       "      <td>512.3292</td>\n",
       "    </tr>\n",
       "  </tbody>\n",
       "</table>\n",
       "</div>"
      ],
      "text/plain": [
       "          count       mean        std   min    10%      25%      50%   75%      90%       max\n",
       "Survived  891.0   0.383838   0.486592  0.00   0.00   0.0000   0.0000   1.0   1.0000    1.0000\n",
       "Pclass    891.0   2.308642   0.836071  1.00   1.00   2.0000   3.0000   3.0   3.0000    3.0000\n",
       "Age       714.0  29.699118  14.526497  0.42  14.00  20.1250  28.0000  38.0  50.0000   80.0000\n",
       "SibSp     891.0   0.523008   1.102743  0.00   0.00   0.0000   0.0000   1.0   1.0000    8.0000\n",
       "Parch     891.0   0.381594   0.806057  0.00   0.00   0.0000   0.0000   0.0   2.0000    6.0000\n",
       "Fare      891.0  32.204208  49.693429  0.00   7.55   7.9104  14.4542  31.0  77.9583  512.3292"
      ]
     },
     "execution_count": 171,
     "metadata": {},
     "output_type": "execute_result"
    }
   ],
   "source": [
    "train_data.describe([0.10, 0.25, 0.50, 0.75, 0.90]).T"
   ]
  },
  {
   "cell_type": "markdown",
   "metadata": {},
   "source": [
    "<a id = \"2\"></a>\n",
    "# Variable Descirption\n",
    "\n",
    "1. PassengerId : Unique identification number for each passenger, but I deleted this variable because it does not contribute to the problem.\n",
    "1. Survived : Target variable.Indicates whether the passengers are dead(0) or alive(1).\n",
    "1. Pclass :  Passenger class.(1, 2, 3)\n",
    "1. Name : Passenger names\n",
    "1. Sex : Gender of passenger\n",
    "1. Age : Age of passenger\n",
    "1. SibSp : Number of siblings/spouses\n",
    "1. Parch : Number of parents/children\n",
    "1. Ticket: Ticket number\n",
    "1. Fare : Ticket prices\n",
    "1. Cabin : Cabin category\n",
    "1. Embarked : port where passenger embarked ( C = Cherbourg, Q = Queenstown, S = Southampton )"
   ]
  },
  {
   "cell_type": "code",
   "execution_count": 172,
   "metadata": {
    "execution": {
     "iopub.execute_input": "2025-01-19T20:51:35.716639Z",
     "iopub.status.busy": "2025-01-19T20:51:35.716233Z",
     "iopub.status.idle": "2025-01-19T20:51:35.739036Z",
     "shell.execute_reply": "2025-01-19T20:51:35.737844Z",
     "shell.execute_reply.started": "2025-01-19T20:51:35.716599Z"
    },
    "trusted": true
   },
   "outputs": [
    {
     "name": "stdout",
     "output_type": "stream",
     "text": [
      "<class 'pandas.core.frame.DataFrame'>\n",
      "RangeIndex: 891 entries, 0 to 890\n",
      "Data columns (total 11 columns):\n",
      " #   Column    Non-Null Count  Dtype  \n",
      "---  ------    --------------  -----  \n",
      " 0   Survived  891 non-null    int64  \n",
      " 1   Pclass    891 non-null    int64  \n",
      " 2   Name      891 non-null    object \n",
      " 3   Sex       891 non-null    object \n",
      " 4   Age       714 non-null    float64\n",
      " 5   SibSp     891 non-null    int64  \n",
      " 6   Parch     891 non-null    int64  \n",
      " 7   Ticket    891 non-null    object \n",
      " 8   Fare      891 non-null    float64\n",
      " 9   Cabin     204 non-null    object \n",
      " 10  Embarked  889 non-null    object \n",
      "dtypes: float64(2), int64(4), object(5)\n",
      "memory usage: 76.7+ KB\n"
     ]
    }
   ],
   "source": [
    "train_data.info()"
   ]
  },
  {
   "cell_type": "code",
   "execution_count": 173,
   "metadata": {
    "execution": {
     "iopub.execute_input": "2025-01-19T20:51:35.756153Z",
     "iopub.status.busy": "2025-01-19T20:51:35.755113Z",
     "iopub.status.idle": "2025-01-19T20:51:35.780873Z",
     "shell.execute_reply": "2025-01-19T20:51:35.77952Z",
     "shell.execute_reply.started": "2025-01-19T20:51:35.756102Z"
    },
    "trusted": true
   },
   "outputs": [
    {
     "name": "stdout",
     "output_type": "stream",
     "text": [
      "Number of Observations: 891\n",
      "Number of Variables: 11\n",
      "Cat cols: 6, Num cols: 2, Cat but car cols: 3\n",
      "\n",
      "Missing Data\n",
      "Survived      0\n",
      "Pclass        0\n",
      "Name          0\n",
      "Sex           0\n",
      "Age         177\n",
      "SibSp         0\n",
      "Parch         0\n",
      "Ticket        0\n",
      "Fare          0\n",
      "Cabin       687\n",
      "Embarked      2\n",
      "dtype: int64\n"
     ]
    }
   ],
   "source": [
    "cat_cols, num_cols, cat_but_car = analyze_data(train_data)"
   ]
  },
  {
   "cell_type": "code",
   "execution_count": 174,
   "metadata": {
    "execution": {
     "iopub.execute_input": "2025-01-19T20:51:35.782689Z",
     "iopub.status.busy": "2025-01-19T20:51:35.782332Z",
     "iopub.status.idle": "2025-01-19T20:51:35.794495Z",
     "shell.execute_reply": "2025-01-19T20:51:35.793368Z",
     "shell.execute_reply.started": "2025-01-19T20:51:35.782661Z"
    },
    "trusted": true
   },
   "outputs": [
    {
     "name": "stdout",
     "output_type": "stream",
     "text": [
      "Number of Observations: 418\n",
      "Number of Variables: 10\n",
      "Cat cols: 5, Num cols: 2, Cat but car cols: 3\n",
      "\n",
      "Missing Data\n",
      "Pclass        0\n",
      "Name          0\n",
      "Sex           0\n",
      "Age          86\n",
      "SibSp         0\n",
      "Parch         0\n",
      "Ticket        0\n",
      "Fare          1\n",
      "Cabin       327\n",
      "Embarked      0\n",
      "dtype: int64\n"
     ]
    },
    {
     "data": {
      "text/plain": [
       "(['Sex', 'Embarked', 'Pclass', 'SibSp', 'Parch'],\n",
       " ['Age', 'Fare'],\n",
       " ['Name', 'Ticket', 'Cabin'])"
      ]
     },
     "execution_count": 174,
     "metadata": {},
     "output_type": "execute_result"
    }
   ],
   "source": [
    "analyze_data(test_data)"
   ]
  },
  {
   "cell_type": "code",
   "execution_count": 175,
   "metadata": {
    "execution": {
     "iopub.execute_input": "2025-01-19T20:51:35.796601Z",
     "iopub.status.busy": "2025-01-19T20:51:35.795902Z",
     "iopub.status.idle": "2025-01-19T20:51:35.803575Z",
     "shell.execute_reply": "2025-01-19T20:51:35.802526Z",
     "shell.execute_reply.started": "2025-01-19T20:51:35.79656Z"
    },
    "trusted": true
   },
   "outputs": [],
   "source": [
    "cat_cols.remove(\"Survived\")\n",
    "target_feature = \"Survived\""
   ]
  },
  {
   "cell_type": "markdown",
   "metadata": {
    "_kg_hide-input": false
   },
   "source": [
    "# Feature Enginering"
   ]
  },
  {
   "cell_type": "markdown",
   "metadata": {},
   "source": [
    "## Numerical Variables"
   ]
  },
  {
   "cell_type": "code",
   "execution_count": 176,
   "metadata": {
    "execution": {
     "iopub.execute_input": "2025-01-19T20:51:35.805232Z",
     "iopub.status.busy": "2025-01-19T20:51:35.804904Z",
     "iopub.status.idle": "2025-01-19T20:51:35.816687Z",
     "shell.execute_reply": "2025-01-19T20:51:35.815486Z",
     "shell.execute_reply.started": "2025-01-19T20:51:35.805204Z"
    },
    "trusted": true
   },
   "outputs": [],
   "source": [
    "train_data[\"family_size\"] = train_data[\"SibSp\"] + train_data[\"Parch\"]+1\n",
    "test_data[\"family_size\"] = test_data[\"SibSp\"] + test_data[\"Parch\"]+1"
   ]
  },
  {
   "cell_type": "code",
   "execution_count": 177,
   "metadata": {
    "execution": {
     "iopub.execute_input": "2025-01-19T20:51:35.818355Z",
     "iopub.status.busy": "2025-01-19T20:51:35.817995Z",
     "iopub.status.idle": "2025-01-19T20:51:35.829625Z",
     "shell.execute_reply": "2025-01-19T20:51:35.828343Z",
     "shell.execute_reply.started": "2025-01-19T20:51:35.818326Z"
    },
    "trusted": true
   },
   "outputs": [
    {
     "data": {
      "text/html": [
       "<div>\n",
       "<style scoped>\n",
       "    .dataframe tbody tr th:only-of-type {\n",
       "        vertical-align: middle;\n",
       "    }\n",
       "\n",
       "    .dataframe tbody tr th {\n",
       "        vertical-align: top;\n",
       "    }\n",
       "\n",
       "    .dataframe thead th {\n",
       "        text-align: right;\n",
       "    }\n",
       "</style>\n",
       "<table border=\"1\" class=\"dataframe\">\n",
       "  <thead>\n",
       "    <tr style=\"text-align: right;\">\n",
       "      <th></th>\n",
       "      <th></th>\n",
       "      <th>Fare</th>\n",
       "    </tr>\n",
       "    <tr>\n",
       "      <th>Pclass</th>\n",
       "      <th>family_size</th>\n",
       "      <th></th>\n",
       "    </tr>\n",
       "  </thead>\n",
       "  <tbody>\n",
       "    <tr>\n",
       "      <th rowspan=\"6\" valign=\"top\">1</th>\n",
       "      <th>1</th>\n",
       "      <td>63.672514</td>\n",
       "    </tr>\n",
       "    <tr>\n",
       "      <th>2</th>\n",
       "      <td>91.848039</td>\n",
       "    </tr>\n",
       "    <tr>\n",
       "      <th>3</th>\n",
       "      <td>95.681075</td>\n",
       "    </tr>\n",
       "    <tr>\n",
       "      <th>4</th>\n",
       "      <td>133.521429</td>\n",
       "    </tr>\n",
       "    <tr>\n",
       "      <th>5</th>\n",
       "      <td>262.375000</td>\n",
       "    </tr>\n",
       "    <tr>\n",
       "      <th>6</th>\n",
       "      <td>263.000000</td>\n",
       "    </tr>\n",
       "    <tr>\n",
       "      <th rowspan=\"6\" valign=\"top\">2</th>\n",
       "      <th>1</th>\n",
       "      <td>14.066106</td>\n",
       "    </tr>\n",
       "    <tr>\n",
       "      <th>2</th>\n",
       "      <td>24.682962</td>\n",
       "    </tr>\n",
       "    <tr>\n",
       "      <th>3</th>\n",
       "      <td>31.693819</td>\n",
       "    </tr>\n",
       "    <tr>\n",
       "      <th>4</th>\n",
       "      <td>36.575969</td>\n",
       "    </tr>\n",
       "    <tr>\n",
       "      <th>5</th>\n",
       "      <td>23.000000</td>\n",
       "    </tr>\n",
       "    <tr>\n",
       "      <th>6</th>\n",
       "      <td>18.750000</td>\n",
       "    </tr>\n",
       "    <tr>\n",
       "      <th rowspan=\"9\" valign=\"top\">3</th>\n",
       "      <th>1</th>\n",
       "      <td>9.272052</td>\n",
       "    </tr>\n",
       "    <tr>\n",
       "      <th>2</th>\n",
       "      <td>13.410023</td>\n",
       "    </tr>\n",
       "    <tr>\n",
       "      <th>3</th>\n",
       "      <td>16.378277</td>\n",
       "    </tr>\n",
       "    <tr>\n",
       "      <th>4</th>\n",
       "      <td>20.103689</td>\n",
       "    </tr>\n",
       "    <tr>\n",
       "      <th>5</th>\n",
       "      <td>26.972233</td>\n",
       "    </tr>\n",
       "    <tr>\n",
       "      <th>6</th>\n",
       "      <td>32.420588</td>\n",
       "    </tr>\n",
       "    <tr>\n",
       "      <th>7</th>\n",
       "      <td>29.366667</td>\n",
       "    </tr>\n",
       "    <tr>\n",
       "      <th>8</th>\n",
       "      <td>46.900000</td>\n",
       "    </tr>\n",
       "    <tr>\n",
       "      <th>11</th>\n",
       "      <td>69.550000</td>\n",
       "    </tr>\n",
       "  </tbody>\n",
       "</table>\n",
       "</div>"
      ],
      "text/plain": [
       "                          Fare\n",
       "Pclass family_size            \n",
       "1      1             63.672514\n",
       "       2             91.848039\n",
       "       3             95.681075\n",
       "       4            133.521429\n",
       "       5            262.375000\n",
       "       6            263.000000\n",
       "2      1             14.066106\n",
       "       2             24.682962\n",
       "       3             31.693819\n",
       "       4             36.575969\n",
       "       5             23.000000\n",
       "       6             18.750000\n",
       "3      1              9.272052\n",
       "       2             13.410023\n",
       "       3             16.378277\n",
       "       4             20.103689\n",
       "       5             26.972233\n",
       "       6             32.420588\n",
       "       7             29.366667\n",
       "       8             46.900000\n",
       "       11            69.550000"
      ]
     },
     "execution_count": 177,
     "metadata": {},
     "output_type": "execute_result"
    }
   ],
   "source": [
    "train_data.groupby([\"Pclass\",\"family_size\"]).agg({\"Fare\":\"mean\"})"
   ]
  },
  {
   "cell_type": "code",
   "execution_count": 178,
   "metadata": {
    "execution": {
     "iopub.execute_input": "2025-01-19T20:51:35.858732Z",
     "iopub.status.busy": "2025-01-19T20:51:35.858337Z",
     "iopub.status.idle": "2025-01-19T20:51:35.870054Z",
     "shell.execute_reply": "2025-01-19T20:51:35.868951Z",
     "shell.execute_reply.started": "2025-01-19T20:51:35.8587Z"
    },
    "trusted": true
   },
   "outputs": [],
   "source": [
    "train_data['Fare_Category'] = pd.cut(train_data['Fare'], \n",
    "                                      bins=[-1, 7.91, 14.454, 31, 100, float('inf')],\n",
    "                                      labels=['Çok Düşük', 'Düşük', 'Orta', 'Yüksek', 'Çok Yüksek'])\n"
   ]
  },
  {
   "cell_type": "code",
   "execution_count": 179,
   "metadata": {
    "execution": {
     "iopub.execute_input": "2025-01-19T20:51:35.831491Z",
     "iopub.status.busy": "2025-01-19T20:51:35.831053Z",
     "iopub.status.idle": "2025-01-19T20:51:35.853227Z",
     "shell.execute_reply": "2025-01-19T20:51:35.851895Z",
     "shell.execute_reply.started": "2025-01-19T20:51:35.831452Z"
    },
    "trusted": true
   },
   "outputs": [],
   "source": [
    "train_data[\"Age_Category\"] = pd.cut(train_data['Age'], \n",
    "      bins=[0, 12, 18, 35, 50, 65, float('inf')],\n",
    "      labels=['Çocuk', 'Genç', 'Yetişkin', 'Orta Yaş', 'Yaşlı', '65+ Yaş'])"
   ]
  },
  {
   "cell_type": "markdown",
   "metadata": {},
   "source": [
    "## Cardinal Variables"
   ]
  },
  {
   "cell_type": "code",
   "execution_count": 180,
   "metadata": {
    "execution": {
     "iopub.execute_input": "2025-01-19T20:51:35.871553Z",
     "iopub.status.busy": "2025-01-19T20:51:35.871217Z",
     "iopub.status.idle": "2025-01-19T20:51:35.893899Z",
     "shell.execute_reply": "2025-01-19T20:51:35.892695Z",
     "shell.execute_reply.started": "2025-01-19T20:51:35.871524Z"
    },
    "trusted": true
   },
   "outputs": [
    {
     "data": {
      "text/html": [
       "<div>\n",
       "<style scoped>\n",
       "    .dataframe tbody tr th:only-of-type {\n",
       "        vertical-align: middle;\n",
       "    }\n",
       "\n",
       "    .dataframe tbody tr th {\n",
       "        vertical-align: top;\n",
       "    }\n",
       "\n",
       "    .dataframe thead th {\n",
       "        text-align: right;\n",
       "    }\n",
       "</style>\n",
       "<table border=\"1\" class=\"dataframe\">\n",
       "  <thead>\n",
       "    <tr style=\"text-align: right;\">\n",
       "      <th></th>\n",
       "      <th>Name</th>\n",
       "      <th>Ticket</th>\n",
       "      <th>Cabin</th>\n",
       "    </tr>\n",
       "  </thead>\n",
       "  <tbody>\n",
       "    <tr>\n",
       "      <th>473</th>\n",
       "      <td>Jerwan, Mrs. Amin S (Marie Marthe Thuillard)</td>\n",
       "      <td>SC/AH Basle 541</td>\n",
       "      <td>D</td>\n",
       "    </tr>\n",
       "    <tr>\n",
       "      <th>205</th>\n",
       "      <td>Strom, Miss. Telma Matilda</td>\n",
       "      <td>347054</td>\n",
       "      <td>G6</td>\n",
       "    </tr>\n",
       "    <tr>\n",
       "      <th>571</th>\n",
       "      <td>Appleton, Mrs. Edward Dale (Charlotte Lamson)</td>\n",
       "      <td>11769</td>\n",
       "      <td>C101</td>\n",
       "    </tr>\n",
       "    <tr>\n",
       "      <th>27</th>\n",
       "      <td>Fortune, Mr. Charles Alexander</td>\n",
       "      <td>19950</td>\n",
       "      <td>C23 C25 C27</td>\n",
       "    </tr>\n",
       "    <tr>\n",
       "      <th>523</th>\n",
       "      <td>Hippach, Mrs. Louis Albert (Ida Sophia Fischer)</td>\n",
       "      <td>111361</td>\n",
       "      <td>B18</td>\n",
       "    </tr>\n",
       "    <tr>\n",
       "      <th>689</th>\n",
       "      <td>Madill, Miss. Georgette Alexandra</td>\n",
       "      <td>24160</td>\n",
       "      <td>B5</td>\n",
       "    </tr>\n",
       "    <tr>\n",
       "      <th>741</th>\n",
       "      <td>Cavendish, Mr. Tyrell William</td>\n",
       "      <td>19877</td>\n",
       "      <td>C46</td>\n",
       "    </tr>\n",
       "    <tr>\n",
       "      <th>185</th>\n",
       "      <td>Rood, Mr. Hugh Roscoe</td>\n",
       "      <td>113767</td>\n",
       "      <td>A32</td>\n",
       "    </tr>\n",
       "    <tr>\n",
       "      <th>291</th>\n",
       "      <td>Bishop, Mrs. Dickinson H (Helen Walton)</td>\n",
       "      <td>11967</td>\n",
       "      <td>B49</td>\n",
       "    </tr>\n",
       "    <tr>\n",
       "      <th>462</th>\n",
       "      <td>Gee, Mr. Arthur H</td>\n",
       "      <td>111320</td>\n",
       "      <td>E63</td>\n",
       "    </tr>\n",
       "    <tr>\n",
       "      <th>21</th>\n",
       "      <td>Beesley, Mr. Lawrence</td>\n",
       "      <td>248698</td>\n",
       "      <td>D56</td>\n",
       "    </tr>\n",
       "    <tr>\n",
       "      <th>88</th>\n",
       "      <td>Fortune, Miss. Mabel Helen</td>\n",
       "      <td>19950</td>\n",
       "      <td>C23 C25 C27</td>\n",
       "    </tr>\n",
       "    <tr>\n",
       "      <th>263</th>\n",
       "      <td>Harrison, Mr. William</td>\n",
       "      <td>112059</td>\n",
       "      <td>B94</td>\n",
       "    </tr>\n",
       "    <tr>\n",
       "      <th>331</th>\n",
       "      <td>Partner, Mr. Austen</td>\n",
       "      <td>113043</td>\n",
       "      <td>C124</td>\n",
       "    </tr>\n",
       "    <tr>\n",
       "      <th>540</th>\n",
       "      <td>Crosby, Miss. Harriet R</td>\n",
       "      <td>WE/P 5735</td>\n",
       "      <td>B22</td>\n",
       "    </tr>\n",
       "    <tr>\n",
       "      <th>712</th>\n",
       "      <td>Taylor, Mr. Elmer Zebley</td>\n",
       "      <td>19996</td>\n",
       "      <td>C126</td>\n",
       "    </tr>\n",
       "    <tr>\n",
       "      <th>248</th>\n",
       "      <td>Beckwith, Mr. Richard Leonard</td>\n",
       "      <td>11751</td>\n",
       "      <td>D35</td>\n",
       "    </tr>\n",
       "    <tr>\n",
       "      <th>679</th>\n",
       "      <td>Cardeza, Mr. Thomas Drake Martinez</td>\n",
       "      <td>PC 17755</td>\n",
       "      <td>B51 B53 B55</td>\n",
       "    </tr>\n",
       "    <tr>\n",
       "      <th>659</th>\n",
       "      <td>Newell, Mr. Arthur Webster</td>\n",
       "      <td>35273</td>\n",
       "      <td>D48</td>\n",
       "    </tr>\n",
       "    <tr>\n",
       "      <th>815</th>\n",
       "      <td>Fry, Mr. Richard</td>\n",
       "      <td>112058</td>\n",
       "      <td>B102</td>\n",
       "    </tr>\n",
       "  </tbody>\n",
       "</table>\n",
       "</div>"
      ],
      "text/plain": [
       "                                                Name           Ticket        Cabin\n",
       "473     Jerwan, Mrs. Amin S (Marie Marthe Thuillard)  SC/AH Basle 541            D\n",
       "205                       Strom, Miss. Telma Matilda           347054           G6\n",
       "571    Appleton, Mrs. Edward Dale (Charlotte Lamson)            11769         C101\n",
       "27                    Fortune, Mr. Charles Alexander            19950  C23 C25 C27\n",
       "523  Hippach, Mrs. Louis Albert (Ida Sophia Fischer)           111361          B18\n",
       "689                Madill, Miss. Georgette Alexandra            24160           B5\n",
       "741                    Cavendish, Mr. Tyrell William            19877          C46\n",
       "185                            Rood, Mr. Hugh Roscoe           113767          A32\n",
       "291          Bishop, Mrs. Dickinson H (Helen Walton)            11967          B49\n",
       "462                                Gee, Mr. Arthur H           111320          E63\n",
       "21                             Beesley, Mr. Lawrence           248698          D56\n",
       "88                        Fortune, Miss. Mabel Helen            19950  C23 C25 C27\n",
       "263                            Harrison, Mr. William           112059          B94\n",
       "331                              Partner, Mr. Austen           113043         C124\n",
       "540                          Crosby, Miss. Harriet R        WE/P 5735          B22\n",
       "712                         Taylor, Mr. Elmer Zebley            19996         C126\n",
       "248                    Beckwith, Mr. Richard Leonard            11751          D35\n",
       "679               Cardeza, Mr. Thomas Drake Martinez         PC 17755  B51 B53 B55\n",
       "659                       Newell, Mr. Arthur Webster            35273          D48\n",
       "815                                 Fry, Mr. Richard           112058         B102"
      ]
     },
     "execution_count": 180,
     "metadata": {},
     "output_type": "execute_result"
    }
   ],
   "source": [
    "train_data[cat_but_car].dropna().sample(20)"
   ]
  },
  {
   "cell_type": "markdown",
   "metadata": {},
   "source": [
    "burada Name kolonundan Mr. Miss. Mrs. Dr. gibi ünvanlardan yeni bir değişken elde edeceğim"
   ]
  },
  {
   "cell_type": "markdown",
   "metadata": {},
   "source": [
    "### Name"
   ]
  },
  {
   "cell_type": "code",
   "execution_count": 181,
   "metadata": {
    "execution": {
     "iopub.execute_input": "2025-01-19T20:51:35.895577Z",
     "iopub.status.busy": "2025-01-19T20:51:35.895229Z",
     "iopub.status.idle": "2025-01-19T20:51:35.914323Z",
     "shell.execute_reply": "2025-01-19T20:51:35.913134Z",
     "shell.execute_reply.started": "2025-01-19T20:51:35.895548Z"
    },
    "trusted": true
   },
   "outputs": [],
   "source": [
    "train_data[\"Title\"] = train_data['Name'].str.extract(r',\\s*([^\\.]+)\\.')[0]\n",
    "test_data[\"Title\"] = test_data['Name'].str.extract(r',\\s*([^\\.]+)\\.')[0]"
   ]
  },
  {
   "cell_type": "code",
   "execution_count": 182,
   "metadata": {
    "execution": {
     "iopub.execute_input": "2025-01-19T20:51:35.916244Z",
     "iopub.status.busy": "2025-01-19T20:51:35.915829Z",
     "iopub.status.idle": "2025-01-19T20:51:35.927842Z",
     "shell.execute_reply": "2025-01-19T20:51:35.926493Z",
     "shell.execute_reply.started": "2025-01-19T20:51:35.916206Z"
    },
    "trusted": true
   },
   "outputs": [],
   "source": [
    "train_data['Name'] = train_data['Name'].astype(str)\n",
    "train_data['Title'] = train_data['Title'].astype(str)"
   ]
  },
  {
   "cell_type": "code",
   "execution_count": 183,
   "metadata": {
    "execution": {
     "iopub.execute_input": "2025-01-19T20:51:35.929853Z",
     "iopub.status.busy": "2025-01-19T20:51:35.929482Z",
     "iopub.status.idle": "2025-01-19T20:51:35.946539Z",
     "shell.execute_reply": "2025-01-19T20:51:35.945316Z",
     "shell.execute_reply.started": "2025-01-19T20:51:35.92982Z"
    },
    "trusted": true
   },
   "outputs": [
    {
     "data": {
      "text/plain": [
       "Title\n",
       "Mr              517\n",
       "Miss            182\n",
       "Mrs             125\n",
       "Master           40\n",
       "Dr                7\n",
       "Rev               6\n",
       "Col               2\n",
       "Mlle              2\n",
       "Major             2\n",
       "Ms                1\n",
       "Mme               1\n",
       "Don               1\n",
       "Lady              1\n",
       "Sir               1\n",
       "Capt              1\n",
       "the Countess      1\n",
       "Jonkheer          1\n",
       "Name: count, dtype: int64"
      ]
     },
     "execution_count": 183,
     "metadata": {},
     "output_type": "execute_result"
    }
   ],
   "source": [
    "train_data[\"Title\"].value_counts()"
   ]
  },
  {
   "cell_type": "code",
   "execution_count": 184,
   "metadata": {
    "execution": {
     "iopub.execute_input": "2025-01-19T20:51:35.94832Z",
     "iopub.status.busy": "2025-01-19T20:51:35.947989Z",
     "iopub.status.idle": "2025-01-19T20:51:35.961201Z",
     "shell.execute_reply": "2025-01-19T20:51:35.960007Z",
     "shell.execute_reply.started": "2025-01-19T20:51:35.948292Z"
    },
    "trusted": true
   },
   "outputs": [
    {
     "data": {
      "text/plain": [
       "Title\n",
       "Mr        240\n",
       "Miss       78\n",
       "Mrs        72\n",
       "Master     21\n",
       "Col         2\n",
       "Rev         2\n",
       "Ms          1\n",
       "Dr          1\n",
       "Dona        1\n",
       "Name: count, dtype: int64"
      ]
     },
     "execution_count": 184,
     "metadata": {},
     "output_type": "execute_result"
    }
   ],
   "source": [
    "test_data[\"Title\"].value_counts()"
   ]
  },
  {
   "cell_type": "markdown",
   "metadata": {},
   "source": [
    "### Cabin"
   ]
  },
  {
   "cell_type": "code",
   "execution_count": 185,
   "metadata": {
    "execution": {
     "iopub.execute_input": "2025-01-19T20:51:35.963089Z",
     "iopub.status.busy": "2025-01-19T20:51:35.96265Z",
     "iopub.status.idle": "2025-01-19T20:51:35.990197Z",
     "shell.execute_reply": "2025-01-19T20:51:35.98888Z",
     "shell.execute_reply.started": "2025-01-19T20:51:35.963048Z"
    },
    "trusted": true
   },
   "outputs": [
    {
     "data": {
      "text/html": [
       "<div>\n",
       "<style scoped>\n",
       "    .dataframe tbody tr th:only-of-type {\n",
       "        vertical-align: middle;\n",
       "    }\n",
       "\n",
       "    .dataframe tbody tr th {\n",
       "        vertical-align: top;\n",
       "    }\n",
       "\n",
       "    .dataframe thead th {\n",
       "        text-align: right;\n",
       "    }\n",
       "</style>\n",
       "<table border=\"1\" class=\"dataframe\">\n",
       "  <thead>\n",
       "    <tr style=\"text-align: right;\">\n",
       "      <th></th>\n",
       "      <th>Survived</th>\n",
       "      <th>Pclass</th>\n",
       "      <th>Name</th>\n",
       "      <th>Sex</th>\n",
       "      <th>Age</th>\n",
       "      <th>SibSp</th>\n",
       "      <th>Parch</th>\n",
       "      <th>Ticket</th>\n",
       "      <th>Fare</th>\n",
       "      <th>Cabin</th>\n",
       "      <th>Embarked</th>\n",
       "      <th>family_size</th>\n",
       "      <th>Fare_Category</th>\n",
       "      <th>Age_Category</th>\n",
       "      <th>Title</th>\n",
       "    </tr>\n",
       "  </thead>\n",
       "  <tbody>\n",
       "    <tr>\n",
       "      <th>6</th>\n",
       "      <td>0</td>\n",
       "      <td>1</td>\n",
       "      <td>McCarthy, Mr. Timothy J</td>\n",
       "      <td>male</td>\n",
       "      <td>54.0</td>\n",
       "      <td>0</td>\n",
       "      <td>0</td>\n",
       "      <td>17463</td>\n",
       "      <td>51.8625</td>\n",
       "      <td>E46</td>\n",
       "      <td>S</td>\n",
       "      <td>1</td>\n",
       "      <td>Yüksek</td>\n",
       "      <td>Yaşlı</td>\n",
       "      <td>Mr</td>\n",
       "    </tr>\n",
       "    <tr>\n",
       "      <th>27</th>\n",
       "      <td>0</td>\n",
       "      <td>1</td>\n",
       "      <td>Fortune, Mr. Charles Alexander</td>\n",
       "      <td>male</td>\n",
       "      <td>19.0</td>\n",
       "      <td>3</td>\n",
       "      <td>2</td>\n",
       "      <td>19950</td>\n",
       "      <td>263.0000</td>\n",
       "      <td>C23 C25 C27</td>\n",
       "      <td>S</td>\n",
       "      <td>6</td>\n",
       "      <td>Çok Yüksek</td>\n",
       "      <td>Yetişkin</td>\n",
       "      <td>Mr</td>\n",
       "    </tr>\n",
       "    <tr>\n",
       "      <th>54</th>\n",
       "      <td>0</td>\n",
       "      <td>1</td>\n",
       "      <td>Ostby, Mr. Engelhart Cornelius</td>\n",
       "      <td>male</td>\n",
       "      <td>65.0</td>\n",
       "      <td>0</td>\n",
       "      <td>1</td>\n",
       "      <td>113509</td>\n",
       "      <td>61.9792</td>\n",
       "      <td>B30</td>\n",
       "      <td>C</td>\n",
       "      <td>2</td>\n",
       "      <td>Yüksek</td>\n",
       "      <td>Yaşlı</td>\n",
       "      <td>Mr</td>\n",
       "    </tr>\n",
       "    <tr>\n",
       "      <th>62</th>\n",
       "      <td>0</td>\n",
       "      <td>1</td>\n",
       "      <td>Harris, Mr. Henry Birkhardt</td>\n",
       "      <td>male</td>\n",
       "      <td>45.0</td>\n",
       "      <td>1</td>\n",
       "      <td>0</td>\n",
       "      <td>36973</td>\n",
       "      <td>83.4750</td>\n",
       "      <td>C83</td>\n",
       "      <td>S</td>\n",
       "      <td>2</td>\n",
       "      <td>Yüksek</td>\n",
       "      <td>Orta Yaş</td>\n",
       "      <td>Mr</td>\n",
       "    </tr>\n",
       "    <tr>\n",
       "      <th>75</th>\n",
       "      <td>0</td>\n",
       "      <td>3</td>\n",
       "      <td>Moen, Mr. Sigurd Hansen</td>\n",
       "      <td>male</td>\n",
       "      <td>25.0</td>\n",
       "      <td>0</td>\n",
       "      <td>0</td>\n",
       "      <td>348123</td>\n",
       "      <td>7.6500</td>\n",
       "      <td>F G73</td>\n",
       "      <td>S</td>\n",
       "      <td>1</td>\n",
       "      <td>Çok Düşük</td>\n",
       "      <td>Yetişkin</td>\n",
       "      <td>Mr</td>\n",
       "    </tr>\n",
       "    <tr>\n",
       "      <th>...</th>\n",
       "      <td>...</td>\n",
       "      <td>...</td>\n",
       "      <td>...</td>\n",
       "      <td>...</td>\n",
       "      <td>...</td>\n",
       "      <td>...</td>\n",
       "      <td>...</td>\n",
       "      <td>...</td>\n",
       "      <td>...</td>\n",
       "      <td>...</td>\n",
       "      <td>...</td>\n",
       "      <td>...</td>\n",
       "      <td>...</td>\n",
       "      <td>...</td>\n",
       "      <td>...</td>\n",
       "    </tr>\n",
       "    <tr>\n",
       "      <th>789</th>\n",
       "      <td>0</td>\n",
       "      <td>1</td>\n",
       "      <td>Guggenheim, Mr. Benjamin</td>\n",
       "      <td>male</td>\n",
       "      <td>46.0</td>\n",
       "      <td>0</td>\n",
       "      <td>0</td>\n",
       "      <td>PC 17593</td>\n",
       "      <td>79.2000</td>\n",
       "      <td>B82 B84</td>\n",
       "      <td>C</td>\n",
       "      <td>1</td>\n",
       "      <td>Yüksek</td>\n",
       "      <td>Orta Yaş</td>\n",
       "      <td>Mr</td>\n",
       "    </tr>\n",
       "    <tr>\n",
       "      <th>806</th>\n",
       "      <td>0</td>\n",
       "      <td>1</td>\n",
       "      <td>Andrews, Mr. Thomas Jr</td>\n",
       "      <td>male</td>\n",
       "      <td>39.0</td>\n",
       "      <td>0</td>\n",
       "      <td>0</td>\n",
       "      <td>112050</td>\n",
       "      <td>0.0000</td>\n",
       "      <td>A36</td>\n",
       "      <td>S</td>\n",
       "      <td>1</td>\n",
       "      <td>Çok Düşük</td>\n",
       "      <td>Orta Yaş</td>\n",
       "      <td>Mr</td>\n",
       "    </tr>\n",
       "    <tr>\n",
       "      <th>815</th>\n",
       "      <td>0</td>\n",
       "      <td>1</td>\n",
       "      <td>Fry, Mr. Richard</td>\n",
       "      <td>male</td>\n",
       "      <td>NaN</td>\n",
       "      <td>0</td>\n",
       "      <td>0</td>\n",
       "      <td>112058</td>\n",
       "      <td>0.0000</td>\n",
       "      <td>B102</td>\n",
       "      <td>S</td>\n",
       "      <td>1</td>\n",
       "      <td>Çok Düşük</td>\n",
       "      <td>NaN</td>\n",
       "      <td>Mr</td>\n",
       "    </tr>\n",
       "    <tr>\n",
       "      <th>867</th>\n",
       "      <td>0</td>\n",
       "      <td>1</td>\n",
       "      <td>Roebling, Mr. Washington Augustus II</td>\n",
       "      <td>male</td>\n",
       "      <td>31.0</td>\n",
       "      <td>0</td>\n",
       "      <td>0</td>\n",
       "      <td>PC 17590</td>\n",
       "      <td>50.4958</td>\n",
       "      <td>A24</td>\n",
       "      <td>S</td>\n",
       "      <td>1</td>\n",
       "      <td>Yüksek</td>\n",
       "      <td>Yetişkin</td>\n",
       "      <td>Mr</td>\n",
       "    </tr>\n",
       "    <tr>\n",
       "      <th>872</th>\n",
       "      <td>0</td>\n",
       "      <td>1</td>\n",
       "      <td>Carlsson, Mr. Frans Olof</td>\n",
       "      <td>male</td>\n",
       "      <td>33.0</td>\n",
       "      <td>0</td>\n",
       "      <td>0</td>\n",
       "      <td>695</td>\n",
       "      <td>5.0000</td>\n",
       "      <td>B51 B53 B55</td>\n",
       "      <td>S</td>\n",
       "      <td>1</td>\n",
       "      <td>Çok Düşük</td>\n",
       "      <td>Yetişkin</td>\n",
       "      <td>Mr</td>\n",
       "    </tr>\n",
       "  </tbody>\n",
       "</table>\n",
       "<p>68 rows × 15 columns</p>\n",
       "</div>"
      ],
      "text/plain": [
       "     Survived  Pclass                                  Name   Sex   Age  SibSp  Parch    Ticket      Fare        Cabin Embarked  family_size Fare_Category Age_Category Title\n",
       "6           0       1               McCarthy, Mr. Timothy J  male  54.0      0      0     17463   51.8625          E46        S            1        Yüksek        Yaşlı    Mr\n",
       "27          0       1        Fortune, Mr. Charles Alexander  male  19.0      3      2     19950  263.0000  C23 C25 C27        S            6    Çok Yüksek     Yetişkin    Mr\n",
       "54          0       1        Ostby, Mr. Engelhart Cornelius  male  65.0      0      1    113509   61.9792          B30        C            2        Yüksek        Yaşlı    Mr\n",
       "62          0       1           Harris, Mr. Henry Birkhardt  male  45.0      1      0     36973   83.4750          C83        S            2        Yüksek     Orta Yaş    Mr\n",
       "75          0       3               Moen, Mr. Sigurd Hansen  male  25.0      0      0    348123    7.6500        F G73        S            1     Çok Düşük     Yetişkin    Mr\n",
       "..        ...     ...                                   ...   ...   ...    ...    ...       ...       ...          ...      ...          ...           ...          ...   ...\n",
       "789         0       1              Guggenheim, Mr. Benjamin  male  46.0      0      0  PC 17593   79.2000      B82 B84        C            1        Yüksek     Orta Yaş    Mr\n",
       "806         0       1                Andrews, Mr. Thomas Jr  male  39.0      0      0    112050    0.0000          A36        S            1     Çok Düşük     Orta Yaş    Mr\n",
       "815         0       1                      Fry, Mr. Richard  male   NaN      0      0    112058    0.0000         B102        S            1     Çok Düşük          NaN    Mr\n",
       "867         0       1  Roebling, Mr. Washington Augustus II  male  31.0      0      0  PC 17590   50.4958          A24        S            1        Yüksek     Yetişkin    Mr\n",
       "872         0       1              Carlsson, Mr. Frans Olof  male  33.0      0      0       695    5.0000  B51 B53 B55        S            1     Çok Düşük     Yetişkin    Mr\n",
       "\n",
       "[68 rows x 15 columns]"
      ]
     },
     "execution_count": 185,
     "metadata": {},
     "output_type": "execute_result"
    }
   ],
   "source": [
    "train_data[(train_data[\"Cabin\"].notna())&(train_data[\"Survived\"] == 0)]"
   ]
  },
  {
   "cell_type": "markdown",
   "metadata": {},
   "source": [
    "sadece 68 kişi kabin bilgisine sahip olduğu halde hayatta kalmamış bu durumda kabin bilgisinin kayıp olma durumu ile hayatta kalmama yüksek correlasyona sahip diyebiliriz bunuda bir özelliğe çevirebiliriz"
   ]
  },
  {
   "cell_type": "code",
   "execution_count": 186,
   "metadata": {},
   "outputs": [],
   "source": [
    "train_data[\"Cabin\"] = train_data[\"Cabin\"].fillna(\"Unknown\")\n",
    "train_data[\"Cabin_Known\"] = train_data[\"Cabin\"].apply(lambda x: 0 if x == \"Unknown\" else 1)"
   ]
  },
  {
   "cell_type": "code",
   "execution_count": 187,
   "metadata": {},
   "outputs": [],
   "source": [
    "train_data[\"Deck\"] = train_data[\"Cabin\"].str[0]"
   ]
  },
  {
   "cell_type": "code",
   "execution_count": 188,
   "metadata": {},
   "outputs": [],
   "source": [
    "# Kabin numarasını çıkar (C123 → 123)\n",
    "train_data[\"Cabin_Number\"] = train_data[\"Cabin\"].str.extract(r'(\\d+)').astype(float)\n",
    "\n",
    "# Gruplara ayır\n",
    "bins = [0, 50, 100, 150, 200, float('inf')]\n",
    "labels = ['0-50', '50-100', '100-150', '150-200', '200+']\n",
    "train_data[\"Cabin_Group\"] = pd.cut(train_data[\"Cabin_Number\"], bins=bins, labels=labels)"
   ]
  },
  {
   "cell_type": "code",
   "execution_count": 189,
   "metadata": {},
   "outputs": [],
   "source": [
    "# Kabin sayısını hesapla\n",
    "train_data[\"Cabin_Count\"] = train_data[\"Cabin\"].apply(lambda x: len(x.split()) if x != \"Unknown\" else 0)"
   ]
  },
  {
   "cell_type": "code",
   "execution_count": 190,
   "metadata": {
    "execution": {
     "iopub.execute_input": "2025-01-19T20:51:36.0043Z",
     "iopub.status.busy": "2025-01-19T20:51:36.004017Z",
     "iopub.status.idle": "2025-01-19T20:51:36.024297Z",
     "shell.execute_reply": "2025-01-19T20:51:36.022958Z",
     "shell.execute_reply.started": "2025-01-19T20:51:36.004276Z"
    },
    "trusted": true
   },
   "outputs": [
    {
     "name": "stdout",
     "output_type": "stream",
     "text": [
      "Number of Observations: 891\n",
      "Number of Variables: 20\n",
      "Cat cols: 14, Num cols: 3, Cat but car cols: 3\n",
      "\n",
      "Missing Data\n",
      "Survived           0\n",
      "Pclass             0\n",
      "Name               0\n",
      "Sex                0\n",
      "Age              177\n",
      "SibSp              0\n",
      "Parch              0\n",
      "Ticket             0\n",
      "Fare               0\n",
      "Cabin              0\n",
      "Embarked           2\n",
      "family_size        0\n",
      "Fare_Category      0\n",
      "Age_Category     177\n",
      "Title              0\n",
      "Cabin_Known        0\n",
      "Deck               0\n",
      "Cabin_Number     691\n",
      "Cabin_Group      691\n",
      "Cabin_Count        0\n",
      "dtype: int64\n"
     ]
    }
   ],
   "source": [
    "cat_cols, num_cols, cat_but_car = analyze_data(train_data)"
   ]
  },
  {
   "cell_type": "code",
   "execution_count": 191,
   "metadata": {
    "execution": {
     "iopub.execute_input": "2025-01-19T20:51:36.026355Z",
     "iopub.status.busy": "2025-01-19T20:51:36.025989Z",
     "iopub.status.idle": "2025-01-19T20:51:36.034482Z",
     "shell.execute_reply": "2025-01-19T20:51:36.033218Z",
     "shell.execute_reply.started": "2025-01-19T20:51:36.026315Z"
    },
    "trusted": true
   },
   "outputs": [],
   "source": [
    "cat_cols.remove(\"Survived\")"
   ]
  },
  {
   "cell_type": "markdown",
   "metadata": {},
   "source": [
    "# Miss Values"
   ]
  },
  {
   "cell_type": "code",
   "execution_count": 192,
   "metadata": {},
   "outputs": [
    {
     "data": {
      "text/plain": [
       "Survived           0\n",
       "Pclass             0\n",
       "Name               0\n",
       "Sex                0\n",
       "Age              177\n",
       "SibSp              0\n",
       "Parch              0\n",
       "Ticket             0\n",
       "Fare               0\n",
       "Cabin              0\n",
       "Embarked           2\n",
       "family_size        0\n",
       "Fare_Category      0\n",
       "Age_Category     177\n",
       "Title              0\n",
       "Cabin_Known        0\n",
       "Deck               0\n",
       "Cabin_Number     691\n",
       "Cabin_Group      691\n",
       "Cabin_Count        0\n",
       "dtype: int64"
      ]
     },
     "execution_count": 192,
     "metadata": {},
     "output_type": "execute_result"
    }
   ],
   "source": [
    "train_data.isna().sum()"
   ]
  },
  {
   "cell_type": "markdown",
   "metadata": {},
   "source": [
    "## Age"
   ]
  },
  {
   "cell_type": "code",
   "execution_count": 193,
   "metadata": {},
   "outputs": [
    {
     "data": {
      "text/html": [
       "<div>\n",
       "<style scoped>\n",
       "    .dataframe tbody tr th:only-of-type {\n",
       "        vertical-align: middle;\n",
       "    }\n",
       "\n",
       "    .dataframe tbody tr th {\n",
       "        vertical-align: top;\n",
       "    }\n",
       "\n",
       "    .dataframe thead th {\n",
       "        text-align: right;\n",
       "    }\n",
       "</style>\n",
       "<table border=\"1\" class=\"dataframe\">\n",
       "  <thead>\n",
       "    <tr style=\"text-align: right;\">\n",
       "      <th></th>\n",
       "      <th>mean</th>\n",
       "      <th>median</th>\n",
       "      <th>count</th>\n",
       "    </tr>\n",
       "    <tr>\n",
       "      <th>Title</th>\n",
       "      <th></th>\n",
       "      <th></th>\n",
       "      <th></th>\n",
       "    </tr>\n",
       "  </thead>\n",
       "  <tbody>\n",
       "    <tr>\n",
       "      <th>Dr</th>\n",
       "      <td>42.642857</td>\n",
       "      <td>46.5</td>\n",
       "      <td>7</td>\n",
       "    </tr>\n",
       "    <tr>\n",
       "      <th>Master</th>\n",
       "      <td>4.466750</td>\n",
       "      <td>3.5</td>\n",
       "      <td>40</td>\n",
       "    </tr>\n",
       "    <tr>\n",
       "      <th>Miss</th>\n",
       "      <td>21.620879</td>\n",
       "      <td>21.0</td>\n",
       "      <td>182</td>\n",
       "    </tr>\n",
       "    <tr>\n",
       "      <th>Mr</th>\n",
       "      <td>31.823017</td>\n",
       "      <td>30.0</td>\n",
       "      <td>517</td>\n",
       "    </tr>\n",
       "    <tr>\n",
       "      <th>Mrs</th>\n",
       "      <td>35.776000</td>\n",
       "      <td>35.0</td>\n",
       "      <td>125</td>\n",
       "    </tr>\n",
       "    <tr>\n",
       "      <th>Rare</th>\n",
       "      <td>42.214286</td>\n",
       "      <td>42.5</td>\n",
       "      <td>14</td>\n",
       "    </tr>\n",
       "    <tr>\n",
       "      <th>Rev</th>\n",
       "      <td>43.166667</td>\n",
       "      <td>46.5</td>\n",
       "      <td>6</td>\n",
       "    </tr>\n",
       "  </tbody>\n",
       "</table>\n",
       "</div>"
      ],
      "text/plain": [
       "             mean  median  count\n",
       "Title                           \n",
       "Dr      42.642857    46.5      7\n",
       "Master   4.466750     3.5     40\n",
       "Miss    21.620879    21.0    182\n",
       "Mr      31.823017    30.0    517\n",
       "Mrs     35.776000    35.0    125\n",
       "Rare    42.214286    42.5     14\n",
       "Rev     43.166667    46.5      6"
      ]
     },
     "execution_count": 193,
     "metadata": {},
     "output_type": "execute_result"
    }
   ],
   "source": [
    "train_data.loc[train_data[\"Title\"].map(train_data[\"Title\"].value_counts() < 3), \"Title\"] = \"Rare\"\n",
    "train_data[\"Age\"] = train_data[\"Age\"].fillna(train_data.groupby(\"Title\")[\"Age\"].transform(\"median\"))\n",
    "train_data[\"Age_Category\"] = pd.cut(train_data['Age'], \n",
    "      bins=[0, 12, 18, 35, 50, 65, float('inf')],\n",
    "      labels=['Çocuk', 'Genç', 'Yetişkin', 'Orta Yaş', 'Yaşlı', '65+ Yaş']) \n",
    "train_data.groupby(\"Title\")[\"Age\"].agg([\"mean\",\"median\", \"count\"])"
   ]
  },
  {
   "cell_type": "markdown",
   "metadata": {},
   "source": [
    "## Embarked"
   ]
  },
  {
   "cell_type": "code",
   "execution_count": 194,
   "metadata": {},
   "outputs": [],
   "source": [
    "train_data.dropna(subset=[\"Embarked\"], inplace = True)"
   ]
  },
  {
   "cell_type": "code",
   "execution_count": 195,
   "metadata": {},
   "outputs": [
    {
     "data": {
      "text/plain": [
       "Survived           0\n",
       "Pclass             0\n",
       "Name               0\n",
       "Sex                0\n",
       "Age                0\n",
       "SibSp              0\n",
       "Parch              0\n",
       "Ticket             0\n",
       "Fare               0\n",
       "Cabin              0\n",
       "Embarked           0\n",
       "family_size        0\n",
       "Fare_Category      0\n",
       "Age_Category       0\n",
       "Title              0\n",
       "Cabin_Known        0\n",
       "Deck               0\n",
       "Cabin_Number     691\n",
       "Cabin_Group      691\n",
       "Cabin_Count        0\n",
       "dtype: int64"
      ]
     },
     "execution_count": 195,
     "metadata": {},
     "output_type": "execute_result"
    }
   ],
   "source": [
    "train_data.isna().sum()"
   ]
  },
  {
   "cell_type": "code",
   "execution_count": null,
   "metadata": {},
   "outputs": [],
   "source": []
  },
  {
   "cell_type": "markdown",
   "metadata": {},
   "source": [
    "# Visualizations"
   ]
  },
  {
   "cell_type": "code",
   "execution_count": 196,
   "metadata": {
    "execution": {
     "iopub.execute_input": "2025-01-19T20:51:36.036293Z",
     "iopub.status.busy": "2025-01-19T20:51:36.035894Z",
     "iopub.status.idle": "2025-01-19T20:51:36.048205Z",
     "shell.execute_reply": "2025-01-19T20:51:36.046957Z",
     "shell.execute_reply.started": "2025-01-19T20:51:36.03626Z"
    },
    "trusted": true
   },
   "outputs": [],
   "source": [
    "train_data_vis = train_data.copy()"
   ]
  },
  {
   "cell_type": "code",
   "execution_count": 197,
   "metadata": {
    "execution": {
     "iopub.execute_input": "2025-01-19T20:51:36.050368Z",
     "iopub.status.busy": "2025-01-19T20:51:36.05002Z",
     "iopub.status.idle": "2025-01-19T20:51:36.067458Z",
     "shell.execute_reply": "2025-01-19T20:51:36.066373Z",
     "shell.execute_reply.started": "2025-01-19T20:51:36.050338Z"
    },
    "trusted": true
   },
   "outputs": [],
   "source": [
    "train_data_vis[cat_cols] = train_data_vis[cat_cols].astype(\"str\")"
   ]
  },
  {
   "cell_type": "markdown",
   "metadata": {},
   "source": [
    "## Categorical Variable"
   ]
  },
  {
   "cell_type": "code",
   "execution_count": 198,
   "metadata": {
    "execution": {
     "iopub.execute_input": "2025-01-19T20:51:36.104785Z",
     "iopub.status.busy": "2025-01-19T20:51:36.104225Z",
     "iopub.status.idle": "2025-01-19T20:51:39.325259Z",
     "shell.execute_reply": "2025-01-19T20:51:39.323909Z",
     "shell.execute_reply.started": "2025-01-19T20:51:36.104748Z"
    },
    "trusted": true
   },
   "outputs": [],
   "source": [
    "cat_figures = analyze_categorical_features(train_data, cat_cols, target_feature)\n",
    "num_figures = analyze_numerical_features(train_data_vis, num_cols, target_feature)"
   ]
  },
  {
   "cell_type": "code",
   "execution_count": 199,
   "metadata": {
    "execution": {
     "iopub.execute_input": "2025-01-19T20:51:39.913073Z",
     "iopub.status.busy": "2025-01-19T20:51:39.912651Z",
     "iopub.status.idle": "2025-01-19T20:51:39.920795Z",
     "shell.execute_reply": "2025-01-19T20:51:39.919493Z",
     "shell.execute_reply.started": "2025-01-19T20:51:39.912988Z"
    },
    "trusted": true
   },
   "outputs": [
    {
     "data": {
      "text/plain": [
       "['Sex_value_counts',\n",
       " 'Sex_Survived_counts',\n",
       " 'Embarked_value_counts',\n",
       " 'Embarked_Survived_counts',\n",
       " 'Title_value_counts',\n",
       " 'Title_Survived_counts',\n",
       " 'Deck_value_counts',\n",
       " 'Deck_Survived_counts',\n",
       " 'Pclass_value_counts',\n",
       " 'Pclass_Survived_counts',\n",
       " 'SibSp_value_counts',\n",
       " 'SibSp_Survived_counts',\n",
       " 'Parch_value_counts',\n",
       " 'Parch_Survived_counts',\n",
       " 'family_size_value_counts',\n",
       " 'family_size_Survived_counts',\n",
       " 'Fare_Category_value_counts',\n",
       " 'Fare_Category_Survived_counts',\n",
       " 'Age_Category_value_counts',\n",
       " 'Age_Category_Survived_counts',\n",
       " 'Cabin_Known_value_counts',\n",
       " 'Cabin_Known_Survived_counts',\n",
       " 'Cabin_Group_value_counts',\n",
       " 'Cabin_Group_Survived_counts',\n",
       " 'Cabin_Count_value_counts',\n",
       " 'Cabin_Count_Survived_counts']"
      ]
     },
     "execution_count": 199,
     "metadata": {},
     "output_type": "execute_result"
    }
   ],
   "source": [
    "list(cat_figures.keys())"
   ]
  },
  {
   "cell_type": "code",
   "execution_count": 200,
   "metadata": {},
   "outputs": [
    {
     "data": {
      "image/png": "[encoded data removed]",
      "text/plain": [
       "<Figure size 1800x600 with 1 Axes>"
      ]
     },
     "execution_count": 200,
     "metadata": {},
     "output_type": "execute_result"
    }
   ],
   "source": [
    "cat_figures[\"Sex_value_counts\"]"
   ]
  },
  {
   "cell_type": "code",
   "execution_count": 201,
   "metadata": {},
   "outputs": [
    {
     "data": {
      "image/png": "[encoded data removed]",
      "text/plain": [
       "<Figure size 1800x600 with 1 Axes>"
      ]
     },
     "execution_count": 201,
     "metadata": {},
     "output_type": "execute_result"
    }
   ],
   "source": [
    "cat_figures[\"Sex_Survived_counts\"]"
   ]
  },
  {
   "cell_type": "code",
   "execution_count": 206,
   "metadata": {},
   "outputs": [
    {
     "data": {
      "image/png": "[encoded data removed]",
      "text/plain": [
       "<Figure size 1800x600 with 1 Axes>"
      ]
     },
     "execution_count": 206,
     "metadata": {},
     "output_type": "execute_result"
    }
   ],
   "source": [
    "cat_figures[\"Age_Category_value_counts\"]"
   ]
  },
  {
   "cell_type": "code",
   "execution_count": 207,
   "metadata": {},
   "outputs": [
    {
     "data": {
      "image/png": "[encoded data removed]",
      "text/plain": [
       "<Figure size 1800x600 with 1 Axes>"
      ]
     },
     "execution_count": 207,
     "metadata": {},
     "output_type": "execute_result"
    }
   ],
   "source": [
    "cat_figures[\"Age_Category_Survived_counts\"]"
   ]
  },
  {
   "cell_type": "markdown",
   "metadata": {},
   "source": [
    "çocuklar ve hanımlara öncelik verelim"
   ]
  },
  {
   "cell_type": "code",
   "execution_count": 202,
   "metadata": {},
   "outputs": [
    {
     "data": {
      "image/png": "[encoded data removed]",
      "text/plain": [
       "<Figure size 1800x600 with 1 Axes>"
      ]
     },
     "execution_count": 202,
     "metadata": {},
     "output_type": "execute_result"
    }
   ],
   "source": [
    "cat_figures[\"Embarked_value_counts\"]"
   ]
  },
  {
   "cell_type": "code",
   "execution_count": 203,
   "metadata": {},
   "outputs": [
    {
     "data": {
      "image/png": "[encoded data removed]",
      "text/plain": [
       "<Figure size 1800x600 with 1 Axes>"
      ]
     },
     "execution_count": 203,
     "metadata": {},
     "output_type": "execute_result"
    }
   ],
   "source": [
    "cat_figures[\"Embarked_Survived_counts\"]"
   ]
  },
  {
   "cell_type": "code",
   "execution_count": 204,
   "metadata": {},
   "outputs": [
    {
     "data": {
      "image/png": "[encoded data removed]",
      "text/plain": [
       "<Figure size 1800x600 with 1 Axes>"
      ]
     },
     "execution_count": 204,
     "metadata": {},
     "output_type": "execute_result"
    }
   ],
   "source": [
    "cat_figures[\"Fare_Category_value_counts\"]"
   ]
  },
  {
   "cell_type": "code",
   "execution_count": 205,
   "metadata": {},
   "outputs": [
    {
     "data": {
      "image/png": "[encoded data removed]",
      "text/plain": [
       "<Figure size 1800x600 with 1 Axes>"
      ]
     },
     "execution_count": 205,
     "metadata": {},
     "output_type": "execute_result"
    }
   ],
   "source": [
    "cat_figures[\"Fare_Category_Survived_counts\"]"
   ]
  },
  {
   "cell_type": "code",
   "execution_count": 208,
   "metadata": {},
   "outputs": [
    {
     "data": {
      "image/png": "[encoded data removed]",
      "text/plain": [
       "<Figure size 1800x600 with 1 Axes>"
      ]
     },
     "execution_count": 208,
     "metadata": {},
     "output_type": "execute_result"
    }
   ],
   "source": [
    "cat_figures[\"Title_value_counts\"]"
   ]
  },
  {
   "cell_type": "code",
   "execution_count": 209,
   "metadata": {},
   "outputs": [
    {
     "data": {
      "image/png": "[encoded data removed]",
      "text/plain": [
       "<Figure size 1800x600 with 1 Axes>"
      ]
     },
     "execution_count": 209,
     "metadata": {},
     "output_type": "execute_result"
    }
   ],
   "source": [
    "cat_figures[\"Title_Survived_counts\"]"
   ]
  },
  {
   "cell_type": "markdown",
   "metadata": {},
   "source": [
    "çok para verenlerin çoğu hayatta kalmış belli ki paranın hayat üzerine bir nüfuzu var"
   ]
  },
  {
   "cell_type": "markdown",
   "metadata": {},
   "source": [
    "## Numerical Variable"
   ]
  },
  {
   "cell_type": "code",
   "execution_count": null,
   "metadata": {},
   "outputs": [],
   "source": []
  },
  {
   "cell_type": "markdown",
   "metadata": {},
   "source": [
    "# Outliers"
   ]
  },
  {
   "cell_type": "markdown",
   "metadata": {},
   "source": [
    "## Outlier Detection"
   ]
  },
  {
   "cell_type": "code",
   "execution_count": 210,
   "metadata": {
    "execution": {
     "iopub.execute_input": "2025-01-19T20:52:49.479555Z",
     "iopub.status.busy": "2025-01-19T20:52:49.479199Z",
     "iopub.status.idle": "2025-01-19T20:52:49.502541Z",
     "shell.execute_reply": "2025-01-19T20:52:49.501454Z",
     "shell.execute_reply.started": "2025-01-19T20:52:49.479525Z"
    },
    "trusted": true
   },
   "outputs": [
    {
     "data": {
      "text/html": [
       "<div>\n",
       "<style scoped>\n",
       "    .dataframe tbody tr th:only-of-type {\n",
       "        vertical-align: middle;\n",
       "    }\n",
       "\n",
       "    .dataframe tbody tr th {\n",
       "        vertical-align: top;\n",
       "    }\n",
       "\n",
       "    .dataframe thead th {\n",
       "        text-align: right;\n",
       "    }\n",
       "</style>\n",
       "<table border=\"1\" class=\"dataframe\">\n",
       "  <thead>\n",
       "    <tr style=\"text-align: right;\">\n",
       "      <th></th>\n",
       "      <th>Survived</th>\n",
       "      <th>Pclass</th>\n",
       "      <th>Name</th>\n",
       "      <th>Sex</th>\n",
       "      <th>Age</th>\n",
       "      <th>SibSp</th>\n",
       "      <th>Parch</th>\n",
       "      <th>Ticket</th>\n",
       "      <th>Fare</th>\n",
       "      <th>Cabin</th>\n",
       "      <th>Embarked</th>\n",
       "      <th>family_size</th>\n",
       "      <th>Fare_Category</th>\n",
       "      <th>Age_Category</th>\n",
       "      <th>Title</th>\n",
       "      <th>Cabin_Known</th>\n",
       "      <th>Deck</th>\n",
       "      <th>Cabin_Number</th>\n",
       "      <th>Cabin_Group</th>\n",
       "      <th>Cabin_Count</th>\n",
       "    </tr>\n",
       "  </thead>\n",
       "  <tbody>\n",
       "    <tr>\n",
       "      <th>0</th>\n",
       "      <td>0</td>\n",
       "      <td>3</td>\n",
       "      <td>Braund, Mr. Owen Harris</td>\n",
       "      <td>male</td>\n",
       "      <td>22.0</td>\n",
       "      <td>1</td>\n",
       "      <td>0</td>\n",
       "      <td>A/5 21171</td>\n",
       "      <td>7.2500</td>\n",
       "      <td>Unknown</td>\n",
       "      <td>S</td>\n",
       "      <td>2</td>\n",
       "      <td>Çok Düşük</td>\n",
       "      <td>Yetişkin</td>\n",
       "      <td>Mr</td>\n",
       "      <td>0</td>\n",
       "      <td>U</td>\n",
       "      <td>NaN</td>\n",
       "      <td>NaN</td>\n",
       "      <td>0</td>\n",
       "    </tr>\n",
       "    <tr>\n",
       "      <th>1</th>\n",
       "      <td>1</td>\n",
       "      <td>1</td>\n",
       "      <td>Cumings, Mrs. John Bradley (Florence Briggs Thayer)</td>\n",
       "      <td>female</td>\n",
       "      <td>38.0</td>\n",
       "      <td>1</td>\n",
       "      <td>0</td>\n",
       "      <td>PC 17599</td>\n",
       "      <td>71.2833</td>\n",
       "      <td>C85</td>\n",
       "      <td>C</td>\n",
       "      <td>2</td>\n",
       "      <td>Yüksek</td>\n",
       "      <td>Orta Yaş</td>\n",
       "      <td>Mrs</td>\n",
       "      <td>1</td>\n",
       "      <td>C</td>\n",
       "      <td>85.0</td>\n",
       "      <td>50-100</td>\n",
       "      <td>1</td>\n",
       "    </tr>\n",
       "    <tr>\n",
       "      <th>2</th>\n",
       "      <td>1</td>\n",
       "      <td>3</td>\n",
       "      <td>Heikkinen, Miss. Laina</td>\n",
       "      <td>female</td>\n",
       "      <td>26.0</td>\n",
       "      <td>0</td>\n",
       "      <td>0</td>\n",
       "      <td>STON/O2. 3101282</td>\n",
       "      <td>7.9250</td>\n",
       "      <td>Unknown</td>\n",
       "      <td>S</td>\n",
       "      <td>1</td>\n",
       "      <td>Düşük</td>\n",
       "      <td>Yetişkin</td>\n",
       "      <td>Miss</td>\n",
       "      <td>0</td>\n",
       "      <td>U</td>\n",
       "      <td>NaN</td>\n",
       "      <td>NaN</td>\n",
       "      <td>0</td>\n",
       "    </tr>\n",
       "    <tr>\n",
       "      <th>3</th>\n",
       "      <td>1</td>\n",
       "      <td>1</td>\n",
       "      <td>Futrelle, Mrs. Jacques Heath (Lily May Peel)</td>\n",
       "      <td>female</td>\n",
       "      <td>35.0</td>\n",
       "      <td>1</td>\n",
       "      <td>0</td>\n",
       "      <td>113803</td>\n",
       "      <td>53.1000</td>\n",
       "      <td>C123</td>\n",
       "      <td>S</td>\n",
       "      <td>2</td>\n",
       "      <td>Yüksek</td>\n",
       "      <td>Yetişkin</td>\n",
       "      <td>Mrs</td>\n",
       "      <td>1</td>\n",
       "      <td>C</td>\n",
       "      <td>123.0</td>\n",
       "      <td>100-150</td>\n",
       "      <td>1</td>\n",
       "    </tr>\n",
       "    <tr>\n",
       "      <th>4</th>\n",
       "      <td>0</td>\n",
       "      <td>3</td>\n",
       "      <td>Allen, Mr. William Henry</td>\n",
       "      <td>male</td>\n",
       "      <td>35.0</td>\n",
       "      <td>0</td>\n",
       "      <td>0</td>\n",
       "      <td>373450</td>\n",
       "      <td>8.0500</td>\n",
       "      <td>Unknown</td>\n",
       "      <td>S</td>\n",
       "      <td>1</td>\n",
       "      <td>Düşük</td>\n",
       "      <td>Yetişkin</td>\n",
       "      <td>Mr</td>\n",
       "      <td>0</td>\n",
       "      <td>U</td>\n",
       "      <td>NaN</td>\n",
       "      <td>NaN</td>\n",
       "      <td>0</td>\n",
       "    </tr>\n",
       "    <tr>\n",
       "      <th>...</th>\n",
       "      <td>...</td>\n",
       "      <td>...</td>\n",
       "      <td>...</td>\n",
       "      <td>...</td>\n",
       "      <td>...</td>\n",
       "      <td>...</td>\n",
       "      <td>...</td>\n",
       "      <td>...</td>\n",
       "      <td>...</td>\n",
       "      <td>...</td>\n",
       "      <td>...</td>\n",
       "      <td>...</td>\n",
       "      <td>...</td>\n",
       "      <td>...</td>\n",
       "      <td>...</td>\n",
       "      <td>...</td>\n",
       "      <td>...</td>\n",
       "      <td>...</td>\n",
       "      <td>...</td>\n",
       "      <td>...</td>\n",
       "    </tr>\n",
       "    <tr>\n",
       "      <th>886</th>\n",
       "      <td>0</td>\n",
       "      <td>2</td>\n",
       "      <td>Montvila, Rev. Juozas</td>\n",
       "      <td>male</td>\n",
       "      <td>27.0</td>\n",
       "      <td>0</td>\n",
       "      <td>0</td>\n",
       "      <td>211536</td>\n",
       "      <td>13.0000</td>\n",
       "      <td>Unknown</td>\n",
       "      <td>S</td>\n",
       "      <td>1</td>\n",
       "      <td>Düşük</td>\n",
       "      <td>Yetişkin</td>\n",
       "      <td>Rev</td>\n",
       "      <td>0</td>\n",
       "      <td>U</td>\n",
       "      <td>NaN</td>\n",
       "      <td>NaN</td>\n",
       "      <td>0</td>\n",
       "    </tr>\n",
       "    <tr>\n",
       "      <th>887</th>\n",
       "      <td>1</td>\n",
       "      <td>1</td>\n",
       "      <td>Graham, Miss. Margaret Edith</td>\n",
       "      <td>female</td>\n",
       "      <td>19.0</td>\n",
       "      <td>0</td>\n",
       "      <td>0</td>\n",
       "      <td>112053</td>\n",
       "      <td>30.0000</td>\n",
       "      <td>B42</td>\n",
       "      <td>S</td>\n",
       "      <td>1</td>\n",
       "      <td>Orta</td>\n",
       "      <td>Yetişkin</td>\n",
       "      <td>Miss</td>\n",
       "      <td>1</td>\n",
       "      <td>B</td>\n",
       "      <td>42.0</td>\n",
       "      <td>0-50</td>\n",
       "      <td>1</td>\n",
       "    </tr>\n",
       "    <tr>\n",
       "      <th>888</th>\n",
       "      <td>0</td>\n",
       "      <td>3</td>\n",
       "      <td>Johnston, Miss. Catherine Helen \"Carrie\"</td>\n",
       "      <td>female</td>\n",
       "      <td>21.0</td>\n",
       "      <td>1</td>\n",
       "      <td>2</td>\n",
       "      <td>W./C. 6607</td>\n",
       "      <td>23.4500</td>\n",
       "      <td>Unknown</td>\n",
       "      <td>S</td>\n",
       "      <td>4</td>\n",
       "      <td>Orta</td>\n",
       "      <td>Yetişkin</td>\n",
       "      <td>Miss</td>\n",
       "      <td>0</td>\n",
       "      <td>U</td>\n",
       "      <td>NaN</td>\n",
       "      <td>NaN</td>\n",
       "      <td>0</td>\n",
       "    </tr>\n",
       "    <tr>\n",
       "      <th>889</th>\n",
       "      <td>1</td>\n",
       "      <td>1</td>\n",
       "      <td>Behr, Mr. Karl Howell</td>\n",
       "      <td>male</td>\n",
       "      <td>26.0</td>\n",
       "      <td>0</td>\n",
       "      <td>0</td>\n",
       "      <td>111369</td>\n",
       "      <td>30.0000</td>\n",
       "      <td>C148</td>\n",
       "      <td>C</td>\n",
       "      <td>1</td>\n",
       "      <td>Orta</td>\n",
       "      <td>Yetişkin</td>\n",
       "      <td>Mr</td>\n",
       "      <td>1</td>\n",
       "      <td>C</td>\n",
       "      <td>148.0</td>\n",
       "      <td>100-150</td>\n",
       "      <td>1</td>\n",
       "    </tr>\n",
       "    <tr>\n",
       "      <th>890</th>\n",
       "      <td>0</td>\n",
       "      <td>3</td>\n",
       "      <td>Dooley, Mr. Patrick</td>\n",
       "      <td>male</td>\n",
       "      <td>32.0</td>\n",
       "      <td>0</td>\n",
       "      <td>0</td>\n",
       "      <td>370376</td>\n",
       "      <td>7.7500</td>\n",
       "      <td>Unknown</td>\n",
       "      <td>Q</td>\n",
       "      <td>1</td>\n",
       "      <td>Çok Düşük</td>\n",
       "      <td>Yetişkin</td>\n",
       "      <td>Mr</td>\n",
       "      <td>0</td>\n",
       "      <td>U</td>\n",
       "      <td>NaN</td>\n",
       "      <td>NaN</td>\n",
       "      <td>0</td>\n",
       "    </tr>\n",
       "  </tbody>\n",
       "</table>\n",
       "<p>889 rows × 20 columns</p>\n",
       "</div>"
      ],
      "text/plain": [
       "     Survived  Pclass                                                 Name     Sex   Age  SibSp  Parch            Ticket     Fare    Cabin Embarked  family_size Fare_Category Age_Category Title  Cabin_Known Deck  Cabin_Number Cabin_Group  Cabin_Count\n",
       "0           0       3                              Braund, Mr. Owen Harris    male  22.0      1      0         A/5 21171   7.2500  Unknown        S            2     Çok Düşük     Yetişkin    Mr            0    U           NaN         NaN            0\n",
       "1           1       1  Cumings, Mrs. John Bradley (Florence Briggs Thayer)  female  38.0      1      0          PC 17599  71.2833      C85        C            2        Yüksek     Orta Yaş   Mrs            1    C          85.0      50-100            1\n",
       "2           1       3                               Heikkinen, Miss. Laina  female  26.0      0      0  STON/O2. 3101282   7.9250  Unknown        S            1         Düşük     Yetişkin  Miss            0    U           NaN         NaN            0\n",
       "3           1       1         Futrelle, Mrs. Jacques Heath (Lily May Peel)  female  35.0      1      0            113803  53.1000     C123        S            2        Yüksek     Yetişkin   Mrs            1    C         123.0     100-150            1\n",
       "4           0       3                             Allen, Mr. William Henry    male  35.0      0      0            373450   8.0500  Unknown        S            1         Düşük     Yetişkin    Mr            0    U           NaN         NaN            0\n",
       "..        ...     ...                                                  ...     ...   ...    ...    ...               ...      ...      ...      ...          ...           ...          ...   ...          ...  ...           ...         ...          ...\n",
       "886         0       2                                Montvila, Rev. Juozas    male  27.0      0      0            211536  13.0000  Unknown        S            1         Düşük     Yetişkin   Rev            0    U           NaN         NaN            0\n",
       "887         1       1                         Graham, Miss. Margaret Edith  female  19.0      0      0            112053  30.0000      B42        S            1          Orta     Yetişkin  Miss            1    B          42.0        0-50            1\n",
       "888         0       3             Johnston, Miss. Catherine Helen \"Carrie\"  female  21.0      1      2        W./C. 6607  23.4500  Unknown        S            4          Orta     Yetişkin  Miss            0    U           NaN         NaN            0\n",
       "889         1       1                                Behr, Mr. Karl Howell    male  26.0      0      0            111369  30.0000     C148        C            1          Orta     Yetişkin    Mr            1    C         148.0     100-150            1\n",
       "890         0       3                                  Dooley, Mr. Patrick    male  32.0      0      0            370376   7.7500  Unknown        Q            1     Çok Düşük     Yetişkin    Mr            0    U           NaN         NaN            0\n",
       "\n",
       "[889 rows x 20 columns]"
      ]
     },
     "execution_count": 210,
     "metadata": {},
     "output_type": "execute_result"
    }
   ],
   "source": [
    "train_data"
   ]
  },
  {
   "cell_type": "code",
   "execution_count": 211,
   "metadata": {
    "execution": {
     "iopub.execute_input": "2025-01-19T20:52:49.51489Z",
     "iopub.status.busy": "2025-01-19T20:52:49.514518Z",
     "iopub.status.idle": "2025-01-19T20:52:49.536151Z",
     "shell.execute_reply": "2025-01-19T20:52:49.534941Z",
     "shell.execute_reply.started": "2025-01-19T20:52:49.51486Z"
    },
    "trusted": true
   },
   "outputs": [],
   "source": [
    "outliers = check_outliers(train_data, num_cols)"
   ]
  },
  {
   "cell_type": "code",
   "execution_count": 212,
   "metadata": {
    "execution": {
     "iopub.execute_input": "2025-01-19T20:52:49.537771Z",
     "iopub.status.busy": "2025-01-19T20:52:49.537457Z",
     "iopub.status.idle": "2025-01-19T20:52:49.56006Z",
     "shell.execute_reply": "2025-01-19T20:52:49.558721Z",
     "shell.execute_reply.started": "2025-01-19T20:52:49.537742Z"
    },
    "trusted": true
   },
   "outputs": [
    {
     "data": {
      "text/html": [
       "<div>\n",
       "<style scoped>\n",
       "    .dataframe tbody tr th:only-of-type {\n",
       "        vertical-align: middle;\n",
       "    }\n",
       "\n",
       "    .dataframe tbody tr th {\n",
       "        vertical-align: top;\n",
       "    }\n",
       "\n",
       "    .dataframe thead th {\n",
       "        text-align: right;\n",
       "    }\n",
       "</style>\n",
       "<table border=\"1\" class=\"dataframe\">\n",
       "  <thead>\n",
       "    <tr style=\"text-align: right;\">\n",
       "      <th></th>\n",
       "      <th>Survived</th>\n",
       "      <th>Pclass</th>\n",
       "      <th>Name</th>\n",
       "      <th>Sex</th>\n",
       "      <th>Age</th>\n",
       "      <th>SibSp</th>\n",
       "      <th>Parch</th>\n",
       "      <th>Ticket</th>\n",
       "      <th>Fare</th>\n",
       "      <th>Cabin</th>\n",
       "      <th>Embarked</th>\n",
       "      <th>family_size</th>\n",
       "      <th>Fare_Category</th>\n",
       "      <th>Age_Category</th>\n",
       "      <th>Title</th>\n",
       "      <th>Cabin_Known</th>\n",
       "      <th>Deck</th>\n",
       "      <th>Cabin_Number</th>\n",
       "      <th>Cabin_Group</th>\n",
       "      <th>Cabin_Count</th>\n",
       "    </tr>\n",
       "  </thead>\n",
       "  <tbody>\n",
       "    <tr>\n",
       "      <th>1</th>\n",
       "      <td>1</td>\n",
       "      <td>1</td>\n",
       "      <td>Cumings, Mrs. John Bradley (Florence Briggs Thayer)</td>\n",
       "      <td>female</td>\n",
       "      <td>38.0</td>\n",
       "      <td>1</td>\n",
       "      <td>0</td>\n",
       "      <td>PC 17599</td>\n",
       "      <td>71.2833</td>\n",
       "      <td>C85</td>\n",
       "      <td>C</td>\n",
       "      <td>2</td>\n",
       "      <td>Yüksek</td>\n",
       "      <td>Orta Yaş</td>\n",
       "      <td>Mrs</td>\n",
       "      <td>1</td>\n",
       "      <td>C</td>\n",
       "      <td>85.0</td>\n",
       "      <td>50-100</td>\n",
       "      <td>1</td>\n",
       "    </tr>\n",
       "    <tr>\n",
       "      <th>27</th>\n",
       "      <td>0</td>\n",
       "      <td>1</td>\n",
       "      <td>Fortune, Mr. Charles Alexander</td>\n",
       "      <td>male</td>\n",
       "      <td>19.0</td>\n",
       "      <td>3</td>\n",
       "      <td>2</td>\n",
       "      <td>19950</td>\n",
       "      <td>263.0000</td>\n",
       "      <td>C23 C25 C27</td>\n",
       "      <td>S</td>\n",
       "      <td>6</td>\n",
       "      <td>Çok Yüksek</td>\n",
       "      <td>Yetişkin</td>\n",
       "      <td>Mr</td>\n",
       "      <td>1</td>\n",
       "      <td>C</td>\n",
       "      <td>23.0</td>\n",
       "      <td>0-50</td>\n",
       "      <td>3</td>\n",
       "    </tr>\n",
       "    <tr>\n",
       "      <th>31</th>\n",
       "      <td>1</td>\n",
       "      <td>1</td>\n",
       "      <td>Spencer, Mrs. William Augustus (Marie Eugenie)</td>\n",
       "      <td>female</td>\n",
       "      <td>35.0</td>\n",
       "      <td>1</td>\n",
       "      <td>0</td>\n",
       "      <td>PC 17569</td>\n",
       "      <td>146.5208</td>\n",
       "      <td>B78</td>\n",
       "      <td>C</td>\n",
       "      <td>2</td>\n",
       "      <td>Çok Yüksek</td>\n",
       "      <td>Yetişkin</td>\n",
       "      <td>Mrs</td>\n",
       "      <td>1</td>\n",
       "      <td>B</td>\n",
       "      <td>78.0</td>\n",
       "      <td>50-100</td>\n",
       "      <td>1</td>\n",
       "    </tr>\n",
       "    <tr>\n",
       "      <th>34</th>\n",
       "      <td>0</td>\n",
       "      <td>1</td>\n",
       "      <td>Meyer, Mr. Edgar Joseph</td>\n",
       "      <td>male</td>\n",
       "      <td>28.0</td>\n",
       "      <td>1</td>\n",
       "      <td>0</td>\n",
       "      <td>PC 17604</td>\n",
       "      <td>82.1708</td>\n",
       "      <td>Unknown</td>\n",
       "      <td>C</td>\n",
       "      <td>2</td>\n",
       "      <td>Yüksek</td>\n",
       "      <td>Yetişkin</td>\n",
       "      <td>Mr</td>\n",
       "      <td>0</td>\n",
       "      <td>U</td>\n",
       "      <td>NaN</td>\n",
       "      <td>NaN</td>\n",
       "      <td>0</td>\n",
       "    </tr>\n",
       "    <tr>\n",
       "      <th>52</th>\n",
       "      <td>1</td>\n",
       "      <td>1</td>\n",
       "      <td>Harper, Mrs. Henry Sleeper (Myna Haxtun)</td>\n",
       "      <td>female</td>\n",
       "      <td>49.0</td>\n",
       "      <td>1</td>\n",
       "      <td>0</td>\n",
       "      <td>PC 17572</td>\n",
       "      <td>76.7292</td>\n",
       "      <td>D33</td>\n",
       "      <td>C</td>\n",
       "      <td>2</td>\n",
       "      <td>Yüksek</td>\n",
       "      <td>Orta Yaş</td>\n",
       "      <td>Mrs</td>\n",
       "      <td>1</td>\n",
       "      <td>D</td>\n",
       "      <td>33.0</td>\n",
       "      <td>0-50</td>\n",
       "      <td>1</td>\n",
       "    </tr>\n",
       "    <tr>\n",
       "      <th>...</th>\n",
       "      <td>...</td>\n",
       "      <td>...</td>\n",
       "      <td>...</td>\n",
       "      <td>...</td>\n",
       "      <td>...</td>\n",
       "      <td>...</td>\n",
       "      <td>...</td>\n",
       "      <td>...</td>\n",
       "      <td>...</td>\n",
       "      <td>...</td>\n",
       "      <td>...</td>\n",
       "      <td>...</td>\n",
       "      <td>...</td>\n",
       "      <td>...</td>\n",
       "      <td>...</td>\n",
       "      <td>...</td>\n",
       "      <td>...</td>\n",
       "      <td>...</td>\n",
       "      <td>...</td>\n",
       "      <td>...</td>\n",
       "    </tr>\n",
       "    <tr>\n",
       "      <th>846</th>\n",
       "      <td>0</td>\n",
       "      <td>3</td>\n",
       "      <td>Sage, Mr. Douglas Bullen</td>\n",
       "      <td>male</td>\n",
       "      <td>30.0</td>\n",
       "      <td>8</td>\n",
       "      <td>2</td>\n",
       "      <td>CA. 2343</td>\n",
       "      <td>69.5500</td>\n",
       "      <td>Unknown</td>\n",
       "      <td>S</td>\n",
       "      <td>11</td>\n",
       "      <td>Yüksek</td>\n",
       "      <td>Yetişkin</td>\n",
       "      <td>Mr</td>\n",
       "      <td>0</td>\n",
       "      <td>U</td>\n",
       "      <td>NaN</td>\n",
       "      <td>NaN</td>\n",
       "      <td>0</td>\n",
       "    </tr>\n",
       "    <tr>\n",
       "      <th>849</th>\n",
       "      <td>1</td>\n",
       "      <td>1</td>\n",
       "      <td>Goldenberg, Mrs. Samuel L (Edwiga Grabowska)</td>\n",
       "      <td>female</td>\n",
       "      <td>35.0</td>\n",
       "      <td>1</td>\n",
       "      <td>0</td>\n",
       "      <td>17453</td>\n",
       "      <td>89.1042</td>\n",
       "      <td>C92</td>\n",
       "      <td>C</td>\n",
       "      <td>2</td>\n",
       "      <td>Yüksek</td>\n",
       "      <td>Yetişkin</td>\n",
       "      <td>Mrs</td>\n",
       "      <td>1</td>\n",
       "      <td>C</td>\n",
       "      <td>92.0</td>\n",
       "      <td>50-100</td>\n",
       "      <td>1</td>\n",
       "    </tr>\n",
       "    <tr>\n",
       "      <th>856</th>\n",
       "      <td>1</td>\n",
       "      <td>1</td>\n",
       "      <td>Wick, Mrs. George Dennick (Mary Hitchcock)</td>\n",
       "      <td>female</td>\n",
       "      <td>45.0</td>\n",
       "      <td>1</td>\n",
       "      <td>1</td>\n",
       "      <td>36928</td>\n",
       "      <td>164.8667</td>\n",
       "      <td>Unknown</td>\n",
       "      <td>S</td>\n",
       "      <td>3</td>\n",
       "      <td>Çok Yüksek</td>\n",
       "      <td>Orta Yaş</td>\n",
       "      <td>Mrs</td>\n",
       "      <td>0</td>\n",
       "      <td>U</td>\n",
       "      <td>NaN</td>\n",
       "      <td>NaN</td>\n",
       "      <td>0</td>\n",
       "    </tr>\n",
       "    <tr>\n",
       "      <th>863</th>\n",
       "      <td>0</td>\n",
       "      <td>3</td>\n",
       "      <td>Sage, Miss. Dorothy Edith \"Dolly\"</td>\n",
       "      <td>female</td>\n",
       "      <td>21.0</td>\n",
       "      <td>8</td>\n",
       "      <td>2</td>\n",
       "      <td>CA. 2343</td>\n",
       "      <td>69.5500</td>\n",
       "      <td>Unknown</td>\n",
       "      <td>S</td>\n",
       "      <td>11</td>\n",
       "      <td>Yüksek</td>\n",
       "      <td>Yetişkin</td>\n",
       "      <td>Miss</td>\n",
       "      <td>0</td>\n",
       "      <td>U</td>\n",
       "      <td>NaN</td>\n",
       "      <td>NaN</td>\n",
       "      <td>0</td>\n",
       "    </tr>\n",
       "    <tr>\n",
       "      <th>879</th>\n",
       "      <td>1</td>\n",
       "      <td>1</td>\n",
       "      <td>Potter, Mrs. Thomas Jr (Lily Alexenia Wilson)</td>\n",
       "      <td>female</td>\n",
       "      <td>56.0</td>\n",
       "      <td>0</td>\n",
       "      <td>1</td>\n",
       "      <td>11767</td>\n",
       "      <td>83.1583</td>\n",
       "      <td>C50</td>\n",
       "      <td>C</td>\n",
       "      <td>2</td>\n",
       "      <td>Yüksek</td>\n",
       "      <td>Yaşlı</td>\n",
       "      <td>Mrs</td>\n",
       "      <td>1</td>\n",
       "      <td>C</td>\n",
       "      <td>50.0</td>\n",
       "      <td>0-50</td>\n",
       "      <td>1</td>\n",
       "    </tr>\n",
       "  </tbody>\n",
       "</table>\n",
       "<p>114 rows × 20 columns</p>\n",
       "</div>"
      ],
      "text/plain": [
       "     Survived  Pclass                                                 Name     Sex   Age  SibSp  Parch    Ticket      Fare        Cabin Embarked  family_size Fare_Category Age_Category Title  Cabin_Known Deck  Cabin_Number Cabin_Group  Cabin_Count\n",
       "1           1       1  Cumings, Mrs. John Bradley (Florence Briggs Thayer)  female  38.0      1      0  PC 17599   71.2833          C85        C            2        Yüksek     Orta Yaş   Mrs            1    C          85.0      50-100            1\n",
       "27          0       1                       Fortune, Mr. Charles Alexander    male  19.0      3      2     19950  263.0000  C23 C25 C27        S            6    Çok Yüksek     Yetişkin    Mr            1    C          23.0        0-50            3\n",
       "31          1       1       Spencer, Mrs. William Augustus (Marie Eugenie)  female  35.0      1      0  PC 17569  146.5208          B78        C            2    Çok Yüksek     Yetişkin   Mrs            1    B          78.0      50-100            1\n",
       "34          0       1                              Meyer, Mr. Edgar Joseph    male  28.0      1      0  PC 17604   82.1708      Unknown        C            2        Yüksek     Yetişkin    Mr            0    U           NaN         NaN            0\n",
       "52          1       1             Harper, Mrs. Henry Sleeper (Myna Haxtun)  female  49.0      1      0  PC 17572   76.7292          D33        C            2        Yüksek     Orta Yaş   Mrs            1    D          33.0        0-50            1\n",
       "..        ...     ...                                                  ...     ...   ...    ...    ...       ...       ...          ...      ...          ...           ...          ...   ...          ...  ...           ...         ...          ...\n",
       "846         0       3                             Sage, Mr. Douglas Bullen    male  30.0      8      2  CA. 2343   69.5500      Unknown        S           11        Yüksek     Yetişkin    Mr            0    U           NaN         NaN            0\n",
       "849         1       1         Goldenberg, Mrs. Samuel L (Edwiga Grabowska)  female  35.0      1      0     17453   89.1042          C92        C            2        Yüksek     Yetişkin   Mrs            1    C          92.0      50-100            1\n",
       "856         1       1           Wick, Mrs. George Dennick (Mary Hitchcock)  female  45.0      1      1     36928  164.8667      Unknown        S            3    Çok Yüksek     Orta Yaş   Mrs            0    U           NaN         NaN            0\n",
       "863         0       3                    Sage, Miss. Dorothy Edith \"Dolly\"  female  21.0      8      2  CA. 2343   69.5500      Unknown        S           11        Yüksek     Yetişkin  Miss            0    U           NaN         NaN            0\n",
       "879         1       1        Potter, Mrs. Thomas Jr (Lily Alexenia Wilson)  female  56.0      0      1     11767   83.1583          C50        C            2        Yüksek        Yaşlı   Mrs            1    C          50.0        0-50            1\n",
       "\n",
       "[114 rows x 20 columns]"
      ]
     },
     "execution_count": 212,
     "metadata": {},
     "output_type": "execute_result"
    }
   ],
   "source": [
    "train_data.loc[outliers[\"Fare\"]]"
   ]
  }
 ],
 "metadata": {
  "kaggle": {
   "accelerator": "none",
   "dataSources": [
    {
     "databundleVersionId": 26502,
     "sourceId": 3136,
     "sourceType": "competition"
    }
   ],
   "dockerImageVersionId": 30527,
   "isGpuEnabled": false,
   "isInternetEnabled": true,
   "language": "python",
   "sourceType": "notebook"
  },
  "kernelspec": {
   "display_name": "DataScience",
   "language": "python",
   "name": "python3"
  },
  "language_info": {
   "codemirror_mode": {
    "name": "ipython",
    "version": 3
   },
   "file_extension": ".py",
   "mimetype": "text/x-python",
   "name": "python",
   "nbconvert_exporter": "python",
   "pygments_lexer": "ipython3",
   "version": "3.11.9"
  }
 },
 "nbformat": 4,
 "nbformat_minor": 4
}
